{
 "cells": [
  {
   "cell_type": "code",
   "execution_count": 47,
   "metadata": {},
   "outputs": [
    {
     "name": "stdout",
     "output_type": "stream",
     "text": [
      "scope.gain.mode                          changed from low                       to high                     \n",
      "scope.gain.gain                          changed from 0                         to 30                       \n",
      "scope.gain.db                            changed from 5.5                       to 24.8359375               \n",
      "scope.adc.basic_mode                     changed from low                       to rising_edge              \n",
      "scope.adc.samples                        changed from 24400                     to 5000                     \n",
      "scope.adc.trig_count                     changed from 620649                    to 21550903                 \n",
      "scope.clock.adc_src                      changed from clkgen_x1                 to clkgen_x4                \n",
      "scope.clock.adc_freq                     changed from 0                         to 29538459                 \n",
      "scope.clock.adc_rate                     changed from 0.0                       to 29538459.0               \n",
      "scope.clock.freq_ctr                     changed from 0                         to 6203350                  \n",
      "scope.clock.clkgen_div                   changed from 1                         to 26                       \n",
      "scope.clock.clkgen_freq                  changed from 192000000.0               to 7384615.384615385        \n",
      "scope.io.tio1                            changed from serial_tx                 to serial_rx                \n",
      "scope.io.tio2                            changed from serial_rx                 to serial_tx                \n",
      "scope.io.hs2                             changed from None                      to clkgen                   \n",
      "scope.io.tio_states                      changed from (1, 0, 0, 0)              to (0, 1, 0, 0)             \n",
      "scope.io.cdc_settings                    changed from bytearray(b'\\x01\\x00\\x00\\x00') to bytearray(b'\\x00\\x00\\x00\\x00')\n"
     ]
    },
    {
     "name": "stderr",
     "output_type": "stream",
     "text": [
      "(ChipWhisperer Target WARNING|File CW305.py:591) Using default Verilog defines (/home/boochoo/chipwhisperer/software/chipwhisperer/hardware/firmware/cw305/cw305_aes_defines.v); if this is not what you want, provide them via the defines_files argument\n"
     ]
    }
   ],
   "source": [
    "import chipwhisperer as cw\n",
    "scope = cw.scope()\n",
    "scope.default_setup()\n",
    "if scope._is_husky:\n",
    "    scope.adc.samples = 80\n",
    "else:\n",
    "    scope.adc.samples = 129\n",
    "scope.adc.offset = 0\n",
    "scope.adc.basic_mode = \"rising_edge\"\n",
    "scope.trigger.triggers = \"tio4\"\n",
    "scope.io.tio1 = \"serial_rx\"\n",
    "scope.io.tio2 = \"serial_tx\"\n",
    "scope.io.hs2 = \"disabled\"\n",
    "\n",
    "#TARGET_PLATFORM = 'CW305_100t'\n",
    "TARGET_PLATFORM = 'CW305_35t'\n",
    "# TARGET_PLATFORM = 'CW312T_A35'\n",
    "#TARGET_PLATFORM = 'CW312T_ICE40'\n",
    "\n",
    "if TARGET_PLATFORM in ['CW312T_A35', 'CW312T_ICE40']:\n",
    "    scope.io.hs2 = 'clkgen'\n",
    "    fpga_id = None # not needed\n",
    "    if TARGET_PLATFORM == 'CW312T_A35':\n",
    "        platform = 'ss2_a35'\n",
    "        scope.gain.db = 45 # this is a good setting for the inductive shunt; if using another, adjust as needed\n",
    "    else:\n",
    "        platform = 'ss2_ice40'\n",
    "        scope.gain.db = 15\n",
    "else:\n",
    "    scope.gain.db = 25\n",
    "    scope.io.hs2 = \"disabled\"\n",
    "    platform = 'cw305'\n",
    "    if TARGET_PLATFORM == 'CW305_100t':\n",
    "        fpga_id = '100t'\n",
    "    elif TARGET_PLATFORM == 'CW305_35t':\n",
    "        fpga_id = '35t'\n",
    "\n",
    "# On the CW305, setting force=False only programs the FPGA if it is currently unprogrammed, whereas force=True programs the FPGA regardless.\n",
    "# This option isn't available on the CW312T_A35 or CW312T_ICE40.\n",
    "# target = cw.target(scope, cw.targets.CW305, force=True, fpga_id=fpga_id, platform=platform)\n",
    "scope.adc.samples = 500\n",
    "target = cw.target(None, cw.targets.CW305, force=True, bsfile=\"/home/boochoo/hqc/dummy-insertion-sparse-polymult/CW305/poly_mult/vivado_polymult_vulnerable_cw305/vivado_polymult_vulnerable_cw305.runs/impl_1/cw305_top.bit\")\n"
   ]
  },
  {
   "cell_type": "code",
   "execution_count": 48,
   "metadata": {},
   "outputs": [],
   "source": [
    "if TARGET_PLATFORM in ['CW305_100t', 'CW305_35t']:\n",
    "    target.vccint_set(1.0)\n",
    "    # we only need PLL1:\n",
    "    target.pll.pll_enable_set(True)\n",
    "    target.pll.pll_outenable_set(False, 0)\n",
    "    target.pll.pll_outenable_set(True, 1)\n",
    "    target.pll.pll_outenable_set(False, 2)\n",
    "\n",
    "    # run at 10 MHz:\n",
    "    target.pll.pll_outfreq_set(10E6, 1)\n",
    "\n",
    "    # 1ms is plenty of idling time\n",
    "    target.clkusbautooff = True\n",
    "    target.clksleeptime = 1\n",
    "\n",
    "if TARGET_PLATFORM in ['CW305_100t', 'CW305_35t']:\n",
    "    if scope._is_husky:\n",
    "        scope.clock.clkgen_freq = 10e6\n",
    "        scope.clock.clkgen_src = 'extclk'\n",
    "        scope.clock.adc_mul = 4\n",
    "        # if the target PLL frequency is changed, the above must also be changed accordingly\n",
    "    else:\n",
    "        scope.clock.adc_src = \"extclk_x4\"\n",
    "        \n",
    "if TARGET_PLATFORM in ['CW312T_A35', 'CW312T_ICE40']:\n",
    "    scope.clock.clkgen_freq = 7.37e6\n",
    "    scope.io.hs2 = 'clkgen'\n",
    "    if scope._is_husky:\n",
    "        scope.clock.clkgen_src = 'system'\n",
    "        scope.clock.adc_mul = 4\n",
    "        scope.clock.reset_dcms()\n",
    "    else:\n",
    "        scope.clock.adc_src = \"clkgen_x4\"\n",
    "    import time\n",
    "    time.sleep(0.1)\n",
    "    target._ss2_test_echo()\n",
    "\n",
    "import time\n",
    "for i in range(5):\n",
    "    scope.clock.reset_adc()\n",
    "    time.sleep(1)\n",
    "    if scope.clock.adc_locked:\n",
    "        break \n",
    "assert (scope.clock.adc_locked), \"ADC failed to lock\""
   ]
  },
  {
   "cell_type": "code",
   "execution_count": 49,
   "metadata": {},
   "outputs": [],
   "source": [
    "project_file = \"projects/polymult_vulnerable.cwp\"\n",
    "project = cw.create_project(project_file, overwrite=True)"
   ]
  },
  {
   "cell_type": "code",
   "execution_count": 50,
   "metadata": {},
   "outputs": [
    {
     "name": "stdout",
     "output_type": "stream",
     "text": [
      "309011921\n"
     ]
    }
   ],
   "source": [
    "def read_y_128_mem_as_int_list(filename):\n",
    "    \"\"\" \n",
    "    y_128.mem 파일을 읽고 각 줄을 2진수에서 정수로 변환하여 리스트로 반환 \n",
    "    \"\"\"\n",
    "    with open(filename, 'r') as file:\n",
    "        lines = file.readlines()\n",
    "    \n",
    "    # 2진수를 정수(int)로 변환하여 리스트에 저장\n",
    "    int_list = [int(line.strip(), 2) for line in lines]\n",
    "    \n",
    "    return int_list\n",
    "\n",
    "\n",
    "int_values = read_y_128_mem_as_int_list(\"/home/boochoo/hqc/dummy-insertion-sparse-polymult/CW305/poly_mult/jupyter/y_128.mem\")\n",
    "normal_values = read_y_128_mem_as_int_list(\"/home/boochoo/hqc/dummy-insertion-sparse-polymult/CW305/poly_mult/jupyter/h_for_y_32.mem\")\n",
    "# print(normal_values[0])\n",
    "print(normal_values[551])"
   ]
  },
  {
   "cell_type": "code",
   "execution_count": 51,
   "metadata": {},
   "outputs": [],
   "source": [
    "def number_to_bytearray(num, high_bits=0, size=16):\n",
    "    \"\"\" \n",
    "    숫자를 지정된 바이트 크기로 변환하는 함수.\n",
    "    high_bits (0~3): 최상위 2비트 (128, 127 비트)를 설정할 값\n",
    "    \"\"\"\n",
    "    if not (0 <= high_bits <= 3):\n",
    "        raise ValueError(\"high_bits는 0~3 사이의 값이어야 합니다.\")\n",
    "\n",
    "    # 126비트 값만 유지하고, 최상위 2비트는 high_bits로 변경\n",
    "    num = (num & ((1 << 126) - 1)) | (high_bits << 126)\n",
    "\n",
    "    return num.to_bytes(size, byteorder='little')\n"
   ]
  },
  {
   "cell_type": "code",
   "execution_count": 52,
   "metadata": {},
   "outputs": [],
   "source": [
    "for i in range(len(int_values) + len(normal_values)):\n",
    "    target.fpga_write(target.REG_CRYPT_KEY, number_to_bytearray(i,0))\n",
    "    if i < len(int_values):\n",
    "        target.fpga_write(target.REG_CRYPT_TEXTIN, int_values[i].to_bytes(16, byteorder='little'))\n",
    "    else:\n",
    "        target.fpga_write(target.REG_CRYPT_TEXTIN, normal_values[i-len(int_values)].to_bytes(16, byteorder='little'))\n",
    "    target.go()\n"
   ]
  },
  {
   "cell_type": "code",
   "execution_count": 53,
   "metadata": {},
   "outputs": [
    {
     "name": "stdout",
     "output_type": "stream",
     "text": [
      "148\n",
      "bytearray(b'\\x00\\x00\\x00\\x00\\x00\\x00\\x00\\x00\\x00\\x00\\x00\\x00\\x00\\x00\\x00\\x00')\n"
     ]
    }
   ],
   "source": [
    "def read_key(index):\n",
    "    target.fpga_write(target.REG_CRYPT_TEXTIN, bytearray(16))\n",
    "    target.fpga_write(target.REG_CRYPT_KEY, number_to_bytearray(index, 0))\n",
    "    target.go()\n",
    "    result_byte = target.fpga_read(target.REG_CRYPT_CIPHEROUT, 16)\n",
    "    return int.from_bytes(result_byte, byteorder='little')\n",
    "\n",
    "\n",
    "print(read_key(0))\n",
    "print(target.fpga_read(target.REG_CRYPT_TEXTIN, 16))"
   ]
  },
  {
   "cell_type": "code",
   "execution_count": 57,
   "metadata": {},
   "outputs": [],
   "source": [
    "target.fpga_write(target.REG_CRYPT_TEXTIN, bytearray([0xFF] * 16))\n",
    "target.fpga_write(target.REG_CRYPT_KEY, number_to_bytearray(7000, 0))\n",
    "target.go()\n"
   ]
  },
  {
   "cell_type": "code",
   "execution_count": 58,
   "metadata": {},
   "outputs": [
    {
     "name": "stdout",
     "output_type": "stream",
     "text": [
      "1243043481\n"
     ]
    }
   ],
   "source": [
    "a = target.fpga_read(target.REG_CRYPT_CIPHEROUT, 16)\n",
    "print(int.from_bytes(a, byteorder='little'))\n",
    "\n"
   ]
  },
  {
   "cell_type": "code",
   "execution_count": 59,
   "metadata": {},
   "outputs": [
    {
     "data": {
      "application/vnd.jupyter.widget-view+json": {
       "model_id": "c0b069bfc4d74f1089019220977c3108",
       "version_major": 2,
       "version_minor": 0
      },
      "text/plain": [
       "Capturing traces:   0%|          | 0/5000 [00:00<?, ?it/s]"
      ]
     },
     "metadata": {},
     "output_type": "display_data"
    }
   ],
   "source": [
    "from tqdm.notebook import tnrange\n",
    "\n",
    "traces = []\n",
    "N = 5000  # Number of traces\n",
    "for i in tnrange(N, desc='Capturing traces'):\n",
    "\n",
    "    ret = cw.capture_trace(scope, target, bytearray([0xFF] * 16), number_to_bytearray(7000, 0))\n",
    "    if not ret:\n",
    "        print(\"Failed capture\")\n",
    "        continue\n",
    "\n",
    "    traces.append(ret.wave)\n",
    "    project.traces.append(ret)"
   ]
  },
  {
   "cell_type": "code",
   "execution_count": 60,
   "metadata": {},
   "outputs": [
    {
     "name": "stdout",
     "output_type": "stream",
     "text": [
      "500\n",
      "5000\n"
     ]
    }
   ],
   "source": [
    "# print(traces[0])\n",
    "print(len(traces[0]))\n",
    "print(len(traces))"
   ]
  },
  {
   "cell_type": "code",
   "execution_count": 61,
   "metadata": {},
   "outputs": [
    {
     "data": {
      "text/html": [
       "    <style>\n",
       "        .bk-notebook-logo {\n",
       "            display: block;\n",
       "            width: 20px;\n",
       "            height: 20px;\n",
       "            background-image: url(data:image/png;base64,iVBORw0KGgoAAAANSUhEUgAAABQAAAAUCAYAAACNiR0NAAAABHNCSVQICAgIfAhkiAAAAAlwSFlzAAALEgAACxIB0t1+/AAAABx0RVh0U29mdHdhcmUAQWRvYmUgRmlyZXdvcmtzIENTNui8sowAAAOkSURBVDiNjZRtaJVlGMd/1/08zzln5zjP1LWcU9N0NkN8m2CYjpgQYQXqSs0I84OLIC0hkEKoPtiH3gmKoiJDU7QpLgoLjLIQCpEsNJ1vqUOdO7ppbuec5+V+rj4ctwzd8IIbbi6u+8f1539dt3A78eXC7QizUF7gyV1fD1Yqg4JWz84yffhm0qkFqBogB9rM8tZdtwVsPUhWhGcFJngGeWrPzHm5oaMmkfEg1usvLFyc8jLRqDOMru7AyC8saQr7GG7f5fvDeH7Ej8CM66nIF+8yngt6HWaKh7k49Soy9nXurCi1o3qUbS3zWfrYeQDTB/Qj6kX6Ybhw4B+bOYoLKCC9H3Nu/leUTZ1JdRWkkn2ldcCamzrcf47KKXdAJllSlxAOkRgyHsGC/zRday5Qld9DyoM4/q/rUoy/CXh3jzOu3bHUVZeU+DEn8FInkPBFlu3+nW3Nw0mk6vCDiWg8CeJaxEwuHS3+z5RgY+YBR6V1Z1nxSOfoaPa4LASWxxdNp+VWTk7+4vzaou8v8PN+xo+KY2xsw6une2frhw05CTYOmQvsEhjhWjn0bmXPjpE1+kplmmkP3suftwTubK9Vq22qKmrBhpY4jvd5afdRA3wGjFAgcnTK2s4hY0/GPNIb0nErGMCRxWOOX64Z8RAC4oCXdklmEvcL8o0BfkNK4lUg9HTl+oPlQxdNo3Mg4Nv175e/1LDGzZen30MEjRUtmXSfiTVu1kK8W4txyV6BMKlbgk3lMwYCiusNy9fVfvvwMxv8Ynl6vxoByANLTWplvuj/nF9m2+PDtt1eiHPBr1oIfhCChQMBw6Aw0UulqTKZdfVvfG7VcfIqLG9bcldL/+pdWTLxLUy8Qq38heUIjh4XlzZxzQm19lLFlr8vdQ97rjZVOLf8nclzckbcD4wxXMidpX30sFd37Fv/GtwwhzhxGVAprjbg0gCAEeIgwCZyTV2Z1REEW8O4py0wsjeloKoMr6iCY6dP92H6Vw/oTyICIthibxjm/DfN9lVz8IqtqKYLUXfoKVMVQVVJOElGjrnnUt9T9wbgp8AyYKaGlqingHZU/uG2NTZSVqwHQTWkx9hxjkpWDaCg6Ckj5qebgBVbT3V3NNXMSiWSDdGV3hrtzla7J+duwPOToIg42ChPQOQjspnSlp1V+Gjdged7+8UN5CRAV7a5EdFNwCjEaBR27b3W890TE7g24NAP/mMDXRWrGoFPQI9ls/MWO2dWFAar/xcOIImbbpA3zgAAAABJRU5ErkJggg==);\n",
       "        }\n",
       "    </style>\n",
       "    <div>\n",
       "        <a href=\"https://bokeh.org\" target=\"_blank\" class=\"bk-notebook-logo\"></a>\n",
       "        <span id=\"c0d7c9b0-4212-4bbe-87d9-f85f74256fa1\">Loading BokehJS ...</span>\n",
       "    </div>\n"
      ]
     },
     "metadata": {},
     "output_type": "display_data"
    },
    {
     "data": {
      "application/javascript": "'use strict';\n(function(root) {\n  function now() {\n    return new Date();\n  }\n\n  const force = true;\n\n  if (typeof root._bokeh_onload_callbacks === \"undefined\" || force === true) {\n    root._bokeh_onload_callbacks = [];\n    root._bokeh_is_loading = undefined;\n  }\n\nconst JS_MIME_TYPE = 'application/javascript';\n  const HTML_MIME_TYPE = 'text/html';\n  const EXEC_MIME_TYPE = 'application/vnd.bokehjs_exec.v0+json';\n  const CLASS_NAME = 'output_bokeh rendered_html';\n\n  /**\n   * Render data to the DOM node\n   */\n  function render(props, node) {\n    const script = document.createElement(\"script\");\n    node.appendChild(script);\n  }\n\n  /**\n   * Handle when an output is cleared or removed\n   */\n  function handleClearOutput(event, handle) {\n    function drop(id) {\n      const view = Bokeh.index.get_by_id(id)\n      if (view != null) {\n        view.model.document.clear()\n        Bokeh.index.delete(view)\n      }\n    }\n\n    const cell = handle.cell;\n\n    const id = cell.output_area._bokeh_element_id;\n    const server_id = cell.output_area._bokeh_server_id;\n\n    // Clean up Bokeh references\n    if (id != null) {\n      drop(id)\n    }\n\n    if (server_id !== undefined) {\n      // Clean up Bokeh references\n      const cmd_clean = \"from bokeh.io.state import curstate; print(curstate().uuid_to_server['\" + server_id + \"'].get_sessions()[0].document.roots[0]._id)\";\n      cell.notebook.kernel.execute(cmd_clean, {\n        iopub: {\n          output: function(msg) {\n            const id = msg.content.text.trim()\n            drop(id)\n          }\n        }\n      });\n      // Destroy server and session\n      const cmd_destroy = \"import bokeh.io.notebook as ion; ion.destroy_server('\" + server_id + \"')\";\n      cell.notebook.kernel.execute(cmd_destroy);\n    }\n  }\n\n  /**\n   * Handle when a new output is added\n   */\n  function handleAddOutput(event, handle) {\n    const output_area = handle.output_area;\n    const output = handle.output;\n\n    // limit handleAddOutput to display_data with EXEC_MIME_TYPE content only\n    if ((output.output_type != \"display_data\") || (!Object.prototype.hasOwnProperty.call(output.data, EXEC_MIME_TYPE))) {\n      return\n    }\n\n    const toinsert = output_area.element.find(\".\" + CLASS_NAME.split(' ')[0]);\n\n    if (output.metadata[EXEC_MIME_TYPE][\"id\"] !== undefined) {\n      toinsert[toinsert.length - 1].firstChild.textContent = output.data[JS_MIME_TYPE];\n      // store reference to embed id on output_area\n      output_area._bokeh_element_id = output.metadata[EXEC_MIME_TYPE][\"id\"];\n    }\n    if (output.metadata[EXEC_MIME_TYPE][\"server_id\"] !== undefined) {\n      const bk_div = document.createElement(\"div\");\n      bk_div.innerHTML = output.data[HTML_MIME_TYPE];\n      const script_attrs = bk_div.children[0].attributes;\n      for (let i = 0; i < script_attrs.length; i++) {\n        toinsert[toinsert.length - 1].firstChild.setAttribute(script_attrs[i].name, script_attrs[i].value);\n        toinsert[toinsert.length - 1].firstChild.textContent = bk_div.children[0].textContent\n      }\n      // store reference to server id on output_area\n      output_area._bokeh_server_id = output.metadata[EXEC_MIME_TYPE][\"server_id\"];\n    }\n  }\n\n  function register_renderer(events, OutputArea) {\n\n    function append_mime(data, metadata, element) {\n      // create a DOM node to render to\n      const toinsert = this.create_output_subarea(\n        metadata,\n        CLASS_NAME,\n        EXEC_MIME_TYPE\n      );\n      this.keyboard_manager.register_events(toinsert);\n      // Render to node\n      const props = {data: data, metadata: metadata[EXEC_MIME_TYPE]};\n      render(props, toinsert[toinsert.length - 1]);\n      element.append(toinsert);\n      return toinsert\n    }\n\n    /* Handle when an output is cleared or removed */\n    events.on('clear_output.CodeCell', handleClearOutput);\n    events.on('delete.Cell', handleClearOutput);\n\n    /* Handle when a new output is added */\n    events.on('output_added.OutputArea', handleAddOutput);\n\n    /**\n     * Register the mime type and append_mime function with output_area\n     */\n    OutputArea.prototype.register_mime_type(EXEC_MIME_TYPE, append_mime, {\n      /* Is output safe? */\n      safe: true,\n      /* Index of renderer in `output_area.display_order` */\n      index: 0\n    });\n  }\n\n  // register the mime type if in Jupyter Notebook environment and previously unregistered\n  if (root.Jupyter !== undefined) {\n    const events = require('base/js/events');\n    const OutputArea = require('notebook/js/outputarea').OutputArea;\n\n    if (OutputArea.prototype.mime_types().indexOf(EXEC_MIME_TYPE) == -1) {\n      register_renderer(events, OutputArea);\n    }\n  }\n  if (typeof (root._bokeh_timeout) === \"undefined\" || force === true) {\n    root._bokeh_timeout = Date.now() + 5000;\n    root._bokeh_failed_load = false;\n  }\n\n  const NB_LOAD_WARNING = {'data': {'text/html':\n     \"<div style='background-color: #fdd'>\\n\"+\n     \"<p>\\n\"+\n     \"BokehJS does not appear to have successfully loaded. If loading BokehJS from CDN, this \\n\"+\n     \"may be due to a slow or bad network connection. Possible fixes:\\n\"+\n     \"</p>\\n\"+\n     \"<ul>\\n\"+\n     \"<li>re-rerun `output_notebook()` to attempt to load from CDN again, or</li>\\n\"+\n     \"<li>use INLINE resources instead, as so:</li>\\n\"+\n     \"</ul>\\n\"+\n     \"<code>\\n\"+\n     \"from bokeh.resources import INLINE\\n\"+\n     \"output_notebook(resources=INLINE)\\n\"+\n     \"</code>\\n\"+\n     \"</div>\"}};\n\n  function display_loaded(error = null) {\n    const el = document.getElementById(\"c0d7c9b0-4212-4bbe-87d9-f85f74256fa1\");\n    if (el != null) {\n      const html = (() => {\n        if (typeof root.Bokeh === \"undefined\") {\n          if (error == null) {\n            return \"BokehJS is loading ...\";\n          } else {\n            return \"BokehJS failed to load.\";\n          }\n        } else {\n          const prefix = `BokehJS ${root.Bokeh.version}`;\n          if (error == null) {\n            return `${prefix} successfully loaded.`;\n          } else {\n            return `${prefix} <b>encountered errors</b> while loading and may not function as expected.`;\n          }\n        }\n      })();\n      el.innerHTML = html;\n\n      if (error != null) {\n        const wrapper = document.createElement(\"div\");\n        wrapper.style.overflow = \"auto\";\n        wrapper.style.height = \"5em\";\n        wrapper.style.resize = \"vertical\";\n        const content = document.createElement(\"div\");\n        content.style.fontFamily = \"monospace\";\n        content.style.whiteSpace = \"pre-wrap\";\n        content.style.backgroundColor = \"rgb(255, 221, 221)\";\n        content.textContent = error.stack ?? error.toString();\n        wrapper.append(content);\n        el.append(wrapper);\n      }\n    } else if (Date.now() < root._bokeh_timeout) {\n      setTimeout(() => display_loaded(error), 100);\n    }\n  }\n\n  function run_callbacks() {\n    try {\n      root._bokeh_onload_callbacks.forEach(function(callback) {\n        if (callback != null)\n          callback();\n      });\n    } finally {\n      delete root._bokeh_onload_callbacks\n    }\n    console.debug(\"Bokeh: all callbacks have finished\");\n  }\n\n  function load_libs(css_urls, js_urls, callback) {\n    if (css_urls == null) css_urls = [];\n    if (js_urls == null) js_urls = [];\n\n    root._bokeh_onload_callbacks.push(callback);\n    if (root._bokeh_is_loading > 0) {\n      console.debug(\"Bokeh: BokehJS is being loaded, scheduling callback at\", now());\n      return null;\n    }\n    if (js_urls == null || js_urls.length === 0) {\n      run_callbacks();\n      return null;\n    }\n    console.debug(\"Bokeh: BokehJS not loaded, scheduling load and callback at\", now());\n    root._bokeh_is_loading = css_urls.length + js_urls.length;\n\n    function on_load() {\n      root._bokeh_is_loading--;\n      if (root._bokeh_is_loading === 0) {\n        console.debug(\"Bokeh: all BokehJS libraries/stylesheets loaded\");\n        run_callbacks()\n      }\n    }\n\n    function on_error(url) {\n      console.error(\"failed to load \" + url);\n    }\n\n    for (let i = 0; i < css_urls.length; i++) {\n      const url = css_urls[i];\n      const element = document.createElement(\"link\");\n      element.onload = on_load;\n      element.onerror = on_error.bind(null, url);\n      element.rel = \"stylesheet\";\n      element.type = \"text/css\";\n      element.href = url;\n      console.debug(\"Bokeh: injecting link tag for BokehJS stylesheet: \", url);\n      document.body.appendChild(element);\n    }\n\n    for (let i = 0; i < js_urls.length; i++) {\n      const url = js_urls[i];\n      const element = document.createElement('script');\n      element.onload = on_load;\n      element.onerror = on_error.bind(null, url);\n      element.async = false;\n      element.src = url;\n      console.debug(\"Bokeh: injecting script tag for BokehJS library: \", url);\n      document.head.appendChild(element);\n    }\n  };\n\n  function inject_raw_css(css) {\n    const element = document.createElement(\"style\");\n    element.appendChild(document.createTextNode(css));\n    document.body.appendChild(element);\n  }\n\n  const js_urls = [\"https://cdn.bokeh.org/bokeh/release/bokeh-3.6.2.min.js\", \"https://cdn.bokeh.org/bokeh/release/bokeh-gl-3.6.2.min.js\", \"https://cdn.bokeh.org/bokeh/release/bokeh-widgets-3.6.2.min.js\", \"https://cdn.bokeh.org/bokeh/release/bokeh-tables-3.6.2.min.js\", \"https://cdn.bokeh.org/bokeh/release/bokeh-mathjax-3.6.2.min.js\"];\n  const css_urls = [];\n\n  const inline_js = [    function(Bokeh) {\n      Bokeh.set_log_level(\"info\");\n    },\nfunction(Bokeh) {\n    }\n  ];\n\n  function run_inline_js() {\n    if (root.Bokeh !== undefined || force === true) {\n      try {\n            for (let i = 0; i < inline_js.length; i++) {\n      inline_js[i].call(root, root.Bokeh);\n    }\n\n      } catch (error) {display_loaded(error);throw error;\n      }if (force === true) {\n        display_loaded();\n      }} else if (Date.now() < root._bokeh_timeout) {\n      setTimeout(run_inline_js, 100);\n    } else if (!root._bokeh_failed_load) {\n      console.log(\"Bokeh: BokehJS failed to load within specified timeout.\");\n      root._bokeh_failed_load = true;\n    } else if (force !== true) {\n      const cell = $(document.getElementById(\"c0d7c9b0-4212-4bbe-87d9-f85f74256fa1\")).parents('.cell').data().cell;\n      cell.output_area.append_execute_result(NB_LOAD_WARNING)\n    }\n  }\n\n  if (root._bokeh_is_loading === 0) {\n    console.debug(\"Bokeh: BokehJS loaded, going straight to plotting\");\n    run_inline_js();\n  } else {\n    load_libs(css_urls, js_urls, function() {\n      console.debug(\"Bokeh: BokehJS plotting callback run at\", now());\n      run_inline_js();\n    });\n  }\n}(window));",
      "application/vnd.bokehjs_load.v0+json": ""
     },
     "metadata": {},
     "output_type": "display_data"
    },
    {
     "data": {
      "text/html": [
       "\n",
       "  <div id=\"d98ffb41-7eb3-4ebb-9f0c-66abcdb0b3ce\" data-root-id=\"p1573\" style=\"display: contents;\"></div>\n"
      ]
     },
     "metadata": {},
     "output_type": "display_data"
    },
    {
     "data": {
      "application/javascript": "(function(root) {\n  function embed_document(root) {\n  const docs_json = {\"ec136b69-c13a-4c16-a984-39b28ddae4a0\":{\"version\":\"3.6.2\",\"title\":\"Bokeh Application\",\"roots\":[{\"type\":\"object\",\"name\":\"Figure\",\"id\":\"p1573\",\"attributes\":{\"width\":1000,\"x_range\":{\"type\":\"object\",\"name\":\"DataRange1d\",\"id\":\"p1574\"},\"y_range\":{\"type\":\"object\",\"name\":\"DataRange1d\",\"id\":\"p1575\"},\"x_scale\":{\"type\":\"object\",\"name\":\"LinearScale\",\"id\":\"p1582\"},\"y_scale\":{\"type\":\"object\",\"name\":\"LinearScale\",\"id\":\"p1583\"},\"title\":{\"type\":\"object\",\"name\":\"Title\",\"id\":\"p1580\"},\"renderers\":[{\"type\":\"object\",\"name\":\"GlyphRenderer\",\"id\":\"p1613\",\"attributes\":{\"data_source\":{\"type\":\"object\",\"name\":\"ColumnDataSource\",\"id\":\"p1607\",\"attributes\":{\"selected\":{\"type\":\"object\",\"name\":\"Selection\",\"id\":\"p1608\",\"attributes\":{\"indices\":[],\"line_indices\":[]}},\"selection_policy\":{\"type\":\"object\",\"name\":\"UnionRenderers\",\"id\":\"p1609\"},\"data\":{\"type\":\"map\",\"entries\":[[\"x\",[0,1,2,3,4,5,6,7,8,9,10,11,12,13,14,15,16,17,18,19,20,21,22,23,24,25,26,27,28,29,30,31,32,33,34,35,36,37,38,39,40,41,42,43,44,45,46,47,48,49,50,51,52,53,54,55,56,57,58,59,60,61,62,63,64,65,66,67,68,69,70,71,72,73,74,75,76,77,78,79,80,81,82,83,84,85,86,87,88,89,90,91,92,93,94,95,96,97,98,99,100,101,102,103,104,105,106,107,108,109,110,111,112,113,114,115,116,117,118,119,120,121,122,123,124,125,126,127,128,129,130,131,132,133,134,135,136,137,138,139,140,141,142,143,144,145,146,147,148,149,150,151,152,153,154,155,156,157,158,159,160,161,162,163,164,165,166,167,168,169,170,171,172,173,174,175,176,177,178,179,180,181,182,183,184,185,186,187,188,189,190,191,192,193,194,195,196,197,198,199,200,201,202,203,204,205,206,207,208,209,210,211,212,213,214,215,216,217,218,219,220,221,222,223,224,225,226,227,228,229,230,231,232,233,234,235,236,237,238,239,240,241,242,243,244,245,246,247,248,249,250,251,252,253,254,255,256,257,258,259,260,261,262,263,264,265,266,267,268,269,270,271,272,273,274,275,276,277,278,279,280,281,282,283,284,285,286,287,288,289,290,291,292,293,294,295,296,297,298,299,300,301,302,303,304,305,306,307,308,309,310,311,312,313,314,315,316,317,318,319,320,321,322,323,324,325,326,327,328,329,330,331,332,333,334,335,336,337,338,339,340,341,342,343,344,345,346,347,348,349,350,351,352,353,354,355,356,357,358,359,360,361,362,363,364,365,366,367,368,369,370,371,372,373,374,375,376,377,378,379,380,381,382,383,384,385,386,387,388,389,390,391,392,393,394,395,396,397,398,399,400,401,402,403,404,405,406,407,408,409,410,411,412,413,414,415,416,417,418,419,420,421,422,423,424,425,426,427,428,429,430,431,432,433,434,435,436,437,438,439,440,441,442,443,444,445,446,447,448,449,450,451,452,453,454,455,456,457,458,459,460,461,462,463,464,465,466,467,468,469,470,471,472,473,474,475,476,477,478,479,480,481,482,483,484,485,486,487,488,489,490,491,492,493,494,495,496,497,498,499]],[\"y\",{\"type\":\"ndarray\",\"array\":{\"type\":\"bytes\",\"data\":\"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\"},\"shape\":[500],\"dtype\":\"float64\",\"order\":\"little\"}]]}}},\"view\":{\"type\":\"object\",\"name\":\"CDSView\",\"id\":\"p1614\",\"attributes\":{\"filter\":{\"type\":\"object\",\"name\":\"AllIndices\",\"id\":\"p1615\"}}},\"glyph\":{\"type\":\"object\",\"name\":\"Line\",\"id\":\"p1610\",\"attributes\":{\"x\":{\"type\":\"field\",\"field\":\"x\"},\"y\":{\"type\":\"field\",\"field\":\"y\"},\"line_color\":\"red\"}},\"nonselection_glyph\":{\"type\":\"object\",\"name\":\"Line\",\"id\":\"p1611\",\"attributes\":{\"x\":{\"type\":\"field\",\"field\":\"x\"},\"y\":{\"type\":\"field\",\"field\":\"y\"},\"line_color\":\"red\",\"line_alpha\":0.1}},\"muted_glyph\":{\"type\":\"object\",\"name\":\"Line\",\"id\":\"p1612\",\"attributes\":{\"x\":{\"type\":\"field\",\"field\":\"x\"},\"y\":{\"type\":\"field\",\"field\":\"y\"},\"line_color\":\"red\",\"line_alpha\":0.2}}}}],\"toolbar\":{\"type\":\"object\",\"name\":\"Toolbar\",\"id\":\"p1581\",\"attributes\":{\"tools\":[{\"type\":\"object\",\"name\":\"PanTool\",\"id\":\"p1594\"},{\"type\":\"object\",\"name\":\"WheelZoomTool\",\"id\":\"p1595\",\"attributes\":{\"renderers\":\"auto\"}},{\"type\":\"object\",\"name\":\"BoxZoomTool\",\"id\":\"p1596\",\"attributes\":{\"overlay\":{\"type\":\"object\",\"name\":\"BoxAnnotation\",\"id\":\"p1597\",\"attributes\":{\"syncable\":false,\"line_color\":\"black\",\"line_alpha\":1.0,\"line_width\":2,\"line_dash\":[4,4],\"fill_color\":\"lightgrey\",\"fill_alpha\":0.5,\"level\":\"overlay\",\"visible\":false,\"left\":{\"type\":\"number\",\"value\":\"nan\"},\"right\":{\"type\":\"number\",\"value\":\"nan\"},\"top\":{\"type\":\"number\",\"value\":\"nan\"},\"bottom\":{\"type\":\"number\",\"value\":\"nan\"},\"left_units\":\"canvas\",\"right_units\":\"canvas\",\"top_units\":\"canvas\",\"bottom_units\":\"canvas\",\"handles\":{\"type\":\"object\",\"name\":\"BoxInteractionHandles\",\"id\":\"p1603\",\"attributes\":{\"all\":{\"type\":\"object\",\"name\":\"AreaVisuals\",\"id\":\"p1602\",\"attributes\":{\"fill_color\":\"white\",\"hover_fill_color\":\"lightgray\"}}}}}}}},{\"type\":\"object\",\"name\":\"SaveTool\",\"id\":\"p1604\"},{\"type\":\"object\",\"name\":\"ResetTool\",\"id\":\"p1605\"},{\"type\":\"object\",\"name\":\"HelpTool\",\"id\":\"p1606\"}]}},\"left\":[{\"type\":\"object\",\"name\":\"LinearAxis\",\"id\":\"p1589\",\"attributes\":{\"ticker\":{\"type\":\"object\",\"name\":\"BasicTicker\",\"id\":\"p1590\",\"attributes\":{\"mantissas\":[1,2,5]}},\"formatter\":{\"type\":\"object\",\"name\":\"BasicTickFormatter\",\"id\":\"p1591\"},\"major_label_policy\":{\"type\":\"object\",\"name\":\"AllLabels\",\"id\":\"p1592\"}}}],\"below\":[{\"type\":\"object\",\"name\":\"LinearAxis\",\"id\":\"p1584\",\"attributes\":{\"ticker\":{\"type\":\"object\",\"name\":\"BasicTicker\",\"id\":\"p1585\",\"attributes\":{\"mantissas\":[1,2,5]}},\"formatter\":{\"type\":\"object\",\"name\":\"BasicTickFormatter\",\"id\":\"p1586\"},\"major_label_policy\":{\"type\":\"object\",\"name\":\"AllLabels\",\"id\":\"p1587\"}}}],\"center\":[{\"type\":\"object\",\"name\":\"Grid\",\"id\":\"p1588\",\"attributes\":{\"axis\":{\"id\":\"p1584\"}}},{\"type\":\"object\",\"name\":\"Grid\",\"id\":\"p1593\",\"attributes\":{\"dimension\":1,\"axis\":{\"id\":\"p1589\"}}}]}}]}};\n  const render_items = [{\"docid\":\"ec136b69-c13a-4c16-a984-39b28ddae4a0\",\"roots\":{\"p1573\":\"d98ffb41-7eb3-4ebb-9f0c-66abcdb0b3ce\"},\"root_ids\":[\"p1573\"]}];\n  void root.Bokeh.embed.embed_items_notebook(docs_json, render_items);\n  }\n  if (root.Bokeh !== undefined) {\n    embed_document(root);\n  } else {\n    let attempts = 0;\n    const timer = setInterval(function(root) {\n      if (root.Bokeh !== undefined) {\n        clearInterval(timer);\n        embed_document(root);\n      } else {\n        attempts++;\n        if (attempts > 100) {\n          clearInterval(timer);\n          console.log(\"Bokeh: ERROR: Unable to run BokehJS code because BokehJS library is missing\");\n        }\n      }\n    }, 10, root)\n  }\n})(window);",
      "application/vnd.bokehjs_exec.v0+json": ""
     },
     "metadata": {
      "application/vnd.bokehjs_exec.v0+json": {
       "id": "p1573"
      }
     },
     "output_type": "display_data"
    }
   ],
   "source": [
    "from bokeh.plotting import figure, show\n",
    "from bokeh.io import output_notebook\n",
    "\n",
    "output_notebook()\n",
    "p = figure(width=1000)\n",
    "\n",
    "xrange = list(range(len(traces[0])))\n",
    "p.line(xrange, traces[12], line_color=\"red\")\n",
    "show(p)"
   ]
  },
  {
   "cell_type": "code",
   "execution_count": 62,
   "metadata": {},
   "outputs": [
    {
     "name": "stdout",
     "output_type": "stream",
     "text": [
      "CSV 파일이 성공적으로 저장되었습니다: /home/boochoo/hqc/dummy-insertion-sparse-polymult/CW305/poly_mult/jupyter/traces.csv\n"
     ]
    }
   ],
   "source": [
    "import csv\n",
    "\n",
    "def save_to_csv(data, filename):\n",
    "    \"\"\"\n",
    "    2차원 리스트를 CSV 파일로 저장하는 함수\n",
    "\n",
    "    :param data: 2차원 리스트 (리스트의 리스트)\n",
    "    :param filename: 저장할 CSV 파일명 (예: \"output.csv\")\n",
    "    \"\"\"\n",
    "    try:\n",
    "        with open(filename, mode='w', newline='', encoding='utf-8') as file:\n",
    "            writer = csv.writer(file)\n",
    "            writer.writerows(data)\n",
    "        print(f\"CSV 파일이 성공적으로 저장되었습니다: {filename}\")\n",
    "    except Exception as e:\n",
    "        print(f\"파일 저장 중 오류 발생: {e}\")\n",
    "\n",
    "\n",
    "save_to_csv(traces, \"/home/boochoo/hqc/dummy-insertion-sparse-polymult/CW305/poly_mult/jupyter/traces.csv\")"
   ]
  },
  {
   "cell_type": "code",
   "execution_count": 46,
   "metadata": {},
   "outputs": [
    {
     "data": {
      "text/plain": [
       "129"
      ]
     },
     "execution_count": 46,
     "metadata": {},
     "output_type": "execute_result"
    }
   ],
   "source": [
    "print(scope.adc.samples)"
   ]
  },
  {
   "cell_type": "code",
   "execution_count": null,
   "metadata": {},
   "outputs": [],
   "source": []
  }
 ],
 "metadata": {
  "kernelspec": {
   "display_name": "Python 3 (ipykernel)",
   "language": "python",
   "name": "python3"
  },
  "language_info": {
   "codemirror_mode": {
    "name": "ipython",
    "version": 3
   },
   "file_extension": ".py",
   "mimetype": "text/x-python",
   "name": "python",
   "nbconvert_exporter": "python",
   "pygments_lexer": "ipython3",
   "version": "3.10.12"
  }
 },
 "nbformat": 4,
 "nbformat_minor": 2
}
