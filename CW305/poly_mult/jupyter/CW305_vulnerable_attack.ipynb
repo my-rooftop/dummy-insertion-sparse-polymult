{
 "cells": [
  {
   "cell_type": "code",
   "execution_count": null,
   "metadata": {},
   "outputs": [
    {
     "name": "stdout",
     "output_type": "stream",
     "text": [
      "scope.gain.mode                          changed from low                       to high                     \n",
      "scope.gain.gain                          changed from 0                         to 30                       \n",
      "scope.gain.db                            changed from 5.5                       to 24.8359375               \n",
      "scope.adc.basic_mode                     changed from low                       to rising_edge              \n",
      "scope.adc.samples                        changed from 24400                     to 5000                     \n",
      "scope.adc.trig_count                     changed from 654901                    to 21254275                 \n",
      "scope.clock.adc_src                      changed from clkgen_x1                 to clkgen_x4                \n",
      "scope.clock.adc_freq                     changed from 0                         to 29538459                 \n",
      "scope.clock.adc_rate                     changed from 0.0                       to 29538459.0               \n",
      "scope.clock.freq_ctr                     changed from 0                         to 9202491                  \n",
      "scope.clock.clkgen_div                   changed from 1                         to 26                       \n",
      "scope.clock.clkgen_freq                  changed from 192000000.0               to 7384615.384615385        \n",
      "scope.io.tio1                            changed from serial_tx                 to serial_rx                \n",
      "scope.io.tio2                            changed from serial_rx                 to serial_tx                \n",
      "scope.io.hs2                             changed from None                      to clkgen                   \n",
      "scope.io.tio_states                      changed from (1, 0, 0, 0)              to (0, 1, 0, 0)             \n",
      "scope.io.cdc_settings                    changed from bytearray(b'\\x01\\x00\\x00\\x00') to bytearray(b'\\x00\\x00\\x00\\x00')\n"
     ]
    },
    {
     "name": "stderr",
     "output_type": "stream",
     "text": [
      "(ChipWhisperer Target WARNING|File CW305.py:591) Using default Verilog defines (/home/boochoo/chipwhisperer/software/chipwhisperer/hardware/firmware/cw305/cw305_aes_defines.v); if this is not what you want, provide them via the defines_files argument\n"
     ]
    }
   ],
   "source": [
    "import chipwhisperer as cw\n",
    "scope = cw.scope()\n",
    "scope.default_setup()\n",
    "if scope._is_husky:\n",
    "    scope.adc.samples = 80\n",
    "else:\n",
    "    scope.adc.samples = 129\n",
    "scope.adc.offset = 0\n",
    "scope.adc.basic_mode = \"rising_edge\"\n",
    "scope.trigger.triggers = \"tio4\"\n",
    "scope.io.tio1 = \"serial_rx\"\n",
    "scope.io.tio2 = \"serial_tx\"\n",
    "scope.io.hs2 = \"disabled\"\n",
    "\n",
    "#TARGET_PLATFORM = 'CW305_100t'\n",
    "TARGET_PLATFORM = 'CW305_35t'\n",
    "# TARGET_PLATFORM = 'CW312T_A35'\n",
    "#TARGET_PLATFORM = 'CW312T_ICE40'\n",
    "\n",
    "if TARGET_PLATFORM in ['CW312T_A35', 'CW312T_ICE40']:\n",
    "    scope.io.hs2 = 'clkgen'\n",
    "    fpga_id = None # not needed\n",
    "    if TARGET_PLATFORM == 'CW312T_A35':\n",
    "        platform = 'ss2_a35'\n",
    "        scope.gain.db = 45 # this is a good setting for the inductive shunt; if using another, adjust as needed\n",
    "    else:\n",
    "        platform = 'ss2_ice40'\n",
    "        scope.gain.db = 15\n",
    "else:\n",
    "    scope.gain.db = 25\n",
    "    scope.io.hs2 = \"disabled\"\n",
    "    platform = 'cw305'\n",
    "    if TARGET_PLATFORM == 'CW305_100t':\n",
    "        fpga_id = '100t'\n",
    "    elif TARGET_PLATFORM == 'CW305_35t':\n",
    "        fpga_id = '35t'\n",
    "\n",
    "# On the CW305, setting force=False only programs the FPGA if it is currently unprogrammed, whereas force=True programs the FPGA regardless.\n",
    "# This option isn't available on the CW312T_A35 or CW312T_ICE40.\n",
    "# target = cw.target(scope, cw.targets.CW305, force=True, fpga_id=fpga_id, platform=platform)\n",
    "\n",
    "target = cw.target(None, cw.targets.CW305, force=True, bsfile=\"/home/boochoo/hqc/dummy-insertion-sparse-polymult/CW305/poly_mult/vivado_polymult_vulnerable_cw305/vivado_polymult_vulnerable_cw305.runs/impl_1/cw305_top.bit\")\n"
   ]
  },
  {
   "cell_type": "code",
   "execution_count": 2,
   "metadata": {},
   "outputs": [],
   "source": [
    "if TARGET_PLATFORM in ['CW305_100t', 'CW305_35t']:\n",
    "    target.vccint_set(1.0)\n",
    "    # we only need PLL1:\n",
    "    target.pll.pll_enable_set(True)\n",
    "    target.pll.pll_outenable_set(False, 0)\n",
    "    target.pll.pll_outenable_set(True, 1)\n",
    "    target.pll.pll_outenable_set(False, 2)\n",
    "\n",
    "    # run at 10 MHz:\n",
    "    target.pll.pll_outfreq_set(10E6, 1)\n",
    "\n",
    "    # 1ms is plenty of idling time\n",
    "    target.clkusbautooff = True\n",
    "    target.clksleeptime = 1\n",
    "\n",
    "if TARGET_PLATFORM in ['CW305_100t', 'CW305_35t']:\n",
    "    if scope._is_husky:\n",
    "        scope.clock.clkgen_freq = 10e6\n",
    "        scope.clock.clkgen_src = 'extclk'\n",
    "        scope.clock.adc_mul = 4\n",
    "        # if the target PLL frequency is changed, the above must also be changed accordingly\n",
    "    else:\n",
    "        scope.clock.adc_src = \"extclk_x4\"\n",
    "        \n",
    "if TARGET_PLATFORM in ['CW312T_A35', 'CW312T_ICE40']:\n",
    "    scope.clock.clkgen_freq = 7.37e6\n",
    "    scope.io.hs2 = 'clkgen'\n",
    "    if scope._is_husky:\n",
    "        scope.clock.clkgen_src = 'system'\n",
    "        scope.clock.adc_mul = 4\n",
    "        scope.clock.reset_dcms()\n",
    "    else:\n",
    "        scope.clock.adc_src = \"clkgen_x4\"\n",
    "    import time\n",
    "    time.sleep(0.1)\n",
    "    target._ss2_test_echo()\n",
    "\n",
    "import time\n",
    "for i in range(5):\n",
    "    scope.clock.reset_adc()\n",
    "    time.sleep(1)\n",
    "    if scope.clock.adc_locked:\n",
    "        break \n",
    "assert (scope.clock.adc_locked), \"ADC failed to lock\""
   ]
  },
  {
   "cell_type": "code",
   "execution_count": 3,
   "metadata": {},
   "outputs": [],
   "source": [
    "project_file = \"projects/polymult_vulnerable.cwp\"\n",
    "project = cw.create_project(project_file, overwrite=True)"
   ]
  },
  {
   "cell_type": "code",
   "execution_count": 58,
   "metadata": {},
   "outputs": [
    {
     "name": "stdout",
     "output_type": "stream",
     "text": [
      "9\n",
      "139\n"
     ]
    }
   ],
   "source": [
    "def read_y_128_mem(filename, bit_width=16):\n",
    "    \"\"\" \n",
    "    y_128.mem 파일을 읽고 bit_width(16 또는 32)에 맞게 데이터를 묶어 128비트 단위로 변환 \n",
    "    \"\"\"\n",
    "    with open(filename, 'r') as file:\n",
    "        lines = file.readlines()\n",
    "    \n",
    "    # bit_width에 따라 16비트 또는 32비트 데이터를 읽음\n",
    "    data_nbit = [int(line.strip(), 2) for line in lines]\n",
    "\n",
    "    # bit_width에 따른 그룹 크기 설정 (128비트로 묶기)\n",
    "    num_per_group = 128 // bit_width  # 16비트: 8개, 32비트: 4개\n",
    "    num_groups = (len(data_nbit) + num_per_group - 1) // num_per_group  # 그룹 개수\n",
    "\n",
    "    grouped_data = []\n",
    "\n",
    "    for i in range(num_groups):\n",
    "        group = data_nbit[i*num_per_group:(i+1)*num_per_group]  # 필요한 개수만큼 추출\n",
    "        while len(group) < num_per_group:  # 부족하면 0 채우기\n",
    "            group.append(0)\n",
    "\n",
    "        group.reverse()  # ✅ 데이터 순서를 오른쪽에서 왼쪽으로 정렬\n",
    "        \n",
    "        # 128비트 (16바이트) 변환\n",
    "        byte_array = bytearray()\n",
    "        for value in group:\n",
    "            byte_array.extend(value.to_bytes(bit_width // 8, byteorder='big'))  # 16비트 또는 32비트 변환\n",
    "        \n",
    "        grouped_data.append(byte_array)\n",
    "    \n",
    "    return grouped_data\n",
    "\n",
    "# 16비트 모드 실행\n",
    "data_16bit = read_y_128_mem(\"/home/boochoo/hqc/dummy-insertion-sparse-polymult/CW305/poly_mult/jupyter/y_128.mem\", bit_width=16)\n",
    "\n",
    "# 32비트 모드 실행\n",
    "data_32bit = read_y_128_mem(\"/home/boochoo/hqc/dummy-insertion-sparse-polymult/CW305/poly_mult/jupyter/h_for_y_32.mem\", bit_width=32)\n",
    "\n",
    "print(len(data_16bit))\n",
    "print(len(data_32bit))\n",
    "\n"
   ]
  },
  {
   "cell_type": "code",
   "execution_count": null,
   "metadata": {},
   "outputs": [
    {
     "name": "stdout",
     "output_type": "stream",
     "text": [
      "b'\\xc0\\x00\\x00\\x00\\x00\\x00\\x00\\x00\\x00\\x00\\x00\\x00\\x00\\x00\\x00\\x03'\n"
     ]
    }
   ],
   "source": [
    "def number_to_bytearray(num, high_bits=0, size=16):\n",
    "    \"\"\" \n",
    "    숫자를 지정된 바이트 크기로 변환하는 함수.\n",
    "    high_bits (0~3): 최상위 2비트 (128, 127 비트)를 설정할 값\n",
    "    \"\"\"\n",
    "    if not (0 <= high_bits <= 3):\n",
    "        raise ValueError(\"high_bits는 0~3 사이의 값이어야 합니다.\")\n",
    "\n",
    "    # 126비트 값만 유지하고, 최상위 2비트는 high_bits로 변경\n",
    "    num = (num & ((1 << 126) - 1)) | (high_bits << 126)\n",
    "\n",
    "    return num.to_bytes(size, byteorder='big')\n",
    "\n",
    "\n",
    "for i in range(len(data_16bit)):\n",
    "    target.fpga_write(target.REG_CRYPT_TEXTIN, data_16bit[i])\n",
    "    target.fpga_write(target.REG_CRYPT_KEY, number_to_bytearray(8 * i, 0))\n",
    "    target.go()\n",
    "\n",
    "for i in range(len(data_32bit)):\n",
    "    target.fpga_write(target.REG_CRYPT_TEXTIN, data_32bit[i])\n",
    "    target.fpga_write(target.REG_CRYPT_KEY, number_to_bytearray(4 * i, 1))\n",
    "    target.go()\n",
    "\n",
    "\n",
    "\n"
   ]
  },
  {
   "cell_type": "code",
   "execution_count": 57,
   "metadata": {},
   "outputs": [],
   "source": [
    "data1 = bytes.fromhex(\"d0 56 f3 2f 8e ee e1 7a 59 74 fb 56 08 1e bc a1\")\n",
    "data2 = bytes.fromhex(\"2b 7e 15 16 28 ae d2 a6 ab f7 15 88 09 cf 00 00\")\n",
    "\n",
    "ret = cw.capture_trace(scope, target, data1, data2)"
   ]
  },
  {
   "cell_type": "code",
   "execution_count": 80,
   "metadata": {},
   "outputs": [],
   "source": [
    "target.fpga_write(target.REG_CRYPT_TEXTIN, bytearray([0x34]))\n",
    "target.fpga_write(target.REG_CRYPT_KEY, bytearray([0x22]))"
   ]
  },
  {
   "cell_type": "code",
   "execution_count": 31,
   "metadata": {},
   "outputs": [
    {
     "name": "stderr",
     "output_type": "stream",
     "text": [
      "(ChipWhisperer Scope WARNING|File _OpenADCInterface.py:732) Timeout in OpenADC capture(), no trigger seen! Trigger forced, data is invalid. Status: 0b\n",
      "(ChipWhisperer Scope WARNING|File _OpenADCInterface.py:732) Timeout in OpenADC capture(), no trigger seen! Trigger forced, data is invalid. Status: 08\n",
      "(ChipWhisperer Scope WARNING|File __init__.py:517) Timeout happened during capture\n"
     ]
    }
   ],
   "source": [
    "from tqdm.notebook import tnrange\n",
    "import numpy as np\n",
    "import time\n",
    "from Crypto.Cipher import AES\n",
    "\n",
    "ktp = cw.ktp.Basic()\n",
    "\n",
    "key, text = ktp.next()  # manual creation of a key, text pair can be substituted here\n",
    "\n",
    "ret = cw.capture_trace(scope, target, text, key)"
   ]
  },
  {
   "cell_type": "code",
   "execution_count": 33,
   "metadata": {},
   "outputs": [
    {
     "name": "stdout",
     "output_type": "stream",
     "text": [
      "CWbytearray(b'85 82 4f bd 8a 87 6a fe 3a bb 30 17 50 34 7f cb')\n",
      "CWbytearray(b'2b 7e 15 16 28 ae d2 a6 ab f7 15 88 09 cf 4f 3c')\n"
     ]
    }
   ],
   "source": [
    "print(text)\n",
    "print(key)"
   ]
  },
  {
   "cell_type": "code",
   "execution_count": null,
   "metadata": {},
   "outputs": [
    {
     "name": "stdout",
     "output_type": "stream",
     "text": [
      "CWbytearray(b'2b 7e 15 16 28 ae d2 a6 ab f7 15 88 09 cf 4f 3c')\n",
      "CWbytearray(b'77 a5 1c f4 6b ac 9f 37 60 2f 23 e4 7f 32 04 a8')\n",
      "CWbytearray(b'2b 7e 15 16 28 ae d2 a6 ab f7 15 88 09 cf 4f 3c')\n",
      "CWbytearray(b'36 c4 c0 c8 0f b2 54 a3 fc 6a b4 0c 13 50 a9 af')\n",
      "CWbytearray(b'2b 7e 15 16 28 ae d2 a6 ab f7 15 88 09 cf 4f 3c')\n",
      "CWbytearray(b'cf 37 4f 34 20 f7 e9 ef 2e 4c 17 f1 2a 3b 02 34')\n"
     ]
    }
   ],
   "source": [
    "# from tqdm.notebook import tnrange\n",
    "# import numpy as np\n",
    "# import time\n",
    "# from Crypto.Cipher import AES\n",
    "\n",
    "# ktp = cw.ktp.Basic()\n",
    "\n",
    "# traces = []\n",
    "# textin = []\n",
    "# keys = []\n",
    "# N = 5000  # Number of traces\n",
    "\n",
    "# # initialize cipher to verify DUT result:\n",
    "# key, text = ktp.next()\n",
    "# cipher = AES.new(bytes(key), AES.MODE_ECB)"
   ]
  },
  {
   "cell_type": "code",
   "execution_count": null,
   "metadata": {},
   "outputs": [],
   "source": []
  }
 ],
 "metadata": {
  "kernelspec": {
   "display_name": "Python 3 (ipykernel)",
   "language": "python",
   "name": "python3"
  },
  "language_info": {
   "codemirror_mode": {
    "name": "ipython",
    "version": 3
   },
   "file_extension": ".py",
   "mimetype": "text/x-python",
   "name": "python",
   "nbconvert_exporter": "python",
   "pygments_lexer": "ipython3",
   "version": "3.10.12"
  }
 },
 "nbformat": 4,
 "nbformat_minor": 2
}
