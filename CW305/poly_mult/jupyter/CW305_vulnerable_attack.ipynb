{
 "cells": [
  {
   "cell_type": "code",
   "execution_count": 1,
   "metadata": {},
   "outputs": [
    {
     "name": "stdout",
     "output_type": "stream",
     "text": [
      "scope.gain.mode                          changed from low                       to high                     \n",
      "scope.gain.gain                          changed from 0                         to 30                       \n",
      "scope.gain.db                            changed from 5.5                       to 24.8359375               \n",
      "scope.adc.basic_mode                     changed from low                       to rising_edge              \n",
      "scope.adc.samples                        changed from 24400                     to 5000                     \n",
      "scope.adc.trig_count                     changed from 639101                    to 21346941                 \n",
      "scope.clock.adc_src                      changed from clkgen_x1                 to clkgen_x4                \n",
      "scope.clock.adc_freq                     changed from 0                         to 29538459                 \n",
      "scope.clock.adc_rate                     changed from 0.0                       to 29538459.0               \n",
      "scope.clock.freq_ctr                     changed from 0                         to 6388103                  \n",
      "scope.clock.clkgen_div                   changed from 1                         to 26                       \n",
      "scope.clock.clkgen_freq                  changed from 192000000.0               to 7384615.384615385        \n",
      "scope.io.tio1                            changed from serial_tx                 to serial_rx                \n",
      "scope.io.tio2                            changed from serial_rx                 to serial_tx                \n",
      "scope.io.hs2                             changed from None                      to clkgen                   \n",
      "scope.io.tio_states                      changed from (1, 0, 0, 0)              to (0, 1, 0, 0)             \n",
      "scope.io.cdc_settings                    changed from bytearray(b'\\x01\\x00\\x00\\x00') to bytearray(b'\\x00\\x00\\x00\\x00')\n"
     ]
    },
    {
     "name": "stderr",
     "output_type": "stream",
     "text": [
      "(ChipWhisperer Target WARNING|File CW305.py:591) Using default Verilog defines (/home/boochoo/chipwhisperer/software/chipwhisperer/hardware/firmware/cw305/cw305_aes_defines.v); if this is not what you want, provide them via the defines_files argument\n"
     ]
    }
   ],
   "source": [
    "import chipwhisperer as cw\n",
    "scope = cw.scope()\n",
    "scope.default_setup()\n",
    "if scope._is_husky:\n",
    "    scope.adc.samples = 80\n",
    "else:\n",
    "    scope.adc.samples = 129\n",
    "scope.adc.offset = 0\n",
    "scope.adc.basic_mode = \"rising_edge\"\n",
    "scope.trigger.triggers = \"tio4\"\n",
    "scope.io.tio1 = \"serial_rx\"\n",
    "scope.io.tio2 = \"serial_tx\"\n",
    "scope.io.hs2 = \"disabled\"\n",
    "\n",
    "#TARGET_PLATFORM = 'CW305_100t'\n",
    "TARGET_PLATFORM = 'CW305_35t'\n",
    "# TARGET_PLATFORM = 'CW312T_A35'\n",
    "#TARGET_PLATFORM = 'CW312T_ICE40'\n",
    "\n",
    "if TARGET_PLATFORM in ['CW312T_A35', 'CW312T_ICE40']:\n",
    "    scope.io.hs2 = 'clkgen'\n",
    "    fpga_id = None # not needed\n",
    "    if TARGET_PLATFORM == 'CW312T_A35':\n",
    "        platform = 'ss2_a35'\n",
    "        scope.gain.db = 45 # this is a good setting for the inductive shunt; if using another, adjust as needed\n",
    "    else:\n",
    "        platform = 'ss2_ice40'\n",
    "        scope.gain.db = 15\n",
    "else:\n",
    "    scope.gain.db = 25\n",
    "    scope.io.hs2 = \"disabled\"\n",
    "    platform = 'cw305'\n",
    "    if TARGET_PLATFORM == 'CW305_100t':\n",
    "        fpga_id = '100t'\n",
    "    elif TARGET_PLATFORM == 'CW305_35t':\n",
    "        fpga_id = '35t'\n",
    "\n",
    "# On the CW305, setting force=False only programs the FPGA if it is currently unprogrammed, whereas force=True programs the FPGA regardless.\n",
    "# This option isn't available on the CW312T_A35 or CW312T_ICE40.\n",
    "# target = cw.target(scope, cw.targets.CW305, force=True, fpga_id=fpga_id, platform=platform)\n",
    "scope.adc.samples = 500\n",
    "target = cw.target(None, cw.targets.CW305, force=True, bsfile=\"/home/boochoo/hqc/dummy-insertion-sparse-polymult/CW305/poly_mult/vivado_polymult_vulnerable_cw305/vivado_polymult_vulnerable_cw305.runs/impl_1/cw305_top.bit\")\n"
   ]
  },
  {
   "cell_type": "code",
   "execution_count": 2,
   "metadata": {},
   "outputs": [],
   "source": [
    "if TARGET_PLATFORM in ['CW305_100t', 'CW305_35t']:\n",
    "    target.vccint_set(1.0)\n",
    "    # we only need PLL1:\n",
    "    target.pll.pll_enable_set(True)\n",
    "    target.pll.pll_outenable_set(False, 0)\n",
    "    target.pll.pll_outenable_set(True, 1)\n",
    "    target.pll.pll_outenable_set(False, 2)\n",
    "\n",
    "    # run at 10 MHz:\n",
    "    target.pll.pll_outfreq_set(10E6, 1)\n",
    "\n",
    "    # 1ms is plenty of idling time\n",
    "    target.clkusbautooff = True\n",
    "    target.clksleeptime = 1\n",
    "\n",
    "if TARGET_PLATFORM in ['CW305_100t', 'CW305_35t']:\n",
    "    if scope._is_husky:\n",
    "        scope.clock.clkgen_freq = 10e6\n",
    "        scope.clock.clkgen_src = 'extclk'\n",
    "        scope.clock.adc_mul = 4\n",
    "        # if the target PLL frequency is changed, the above must also be changed accordingly\n",
    "    else:\n",
    "        scope.clock.adc_src = \"extclk_x4\"\n",
    "        \n",
    "if TARGET_PLATFORM in ['CW312T_A35', 'CW312T_ICE40']:\n",
    "    scope.clock.clkgen_freq = 7.37e6\n",
    "    scope.io.hs2 = 'clkgen'\n",
    "    if scope._is_husky:\n",
    "        scope.clock.clkgen_src = 'system'\n",
    "        scope.clock.adc_mul = 4\n",
    "        scope.clock.reset_dcms()\n",
    "    else:\n",
    "        scope.clock.adc_src = \"clkgen_x4\"\n",
    "    import time\n",
    "    time.sleep(0.1)\n",
    "    target._ss2_test_echo()\n",
    "\n",
    "import time\n",
    "for i in range(5):\n",
    "    scope.clock.reset_adc()\n",
    "    time.sleep(1)\n",
    "    if scope.clock.adc_locked:\n",
    "        break \n",
    "assert (scope.clock.adc_locked), \"ADC failed to lock\""
   ]
  },
  {
   "cell_type": "code",
   "execution_count": 3,
   "metadata": {},
   "outputs": [],
   "source": [
    "project_file = \"projects/polymult_vulnerable.cwp\"\n",
    "project = cw.create_project(project_file, overwrite=True)"
   ]
  },
  {
   "cell_type": "code",
   "execution_count": 79,
   "metadata": {},
   "outputs": [
    {
     "name": "stdout",
     "output_type": "stream",
     "text": [
      "309011921\n"
     ]
    }
   ],
   "source": [
    "def read_y_128_mem_as_int_list(filename):\n",
    "    \"\"\" \n",
    "    y_128.mem 파일을 읽고 각 줄을 2진수에서 정수로 변환하여 리스트로 반환 \n",
    "    \"\"\"\n",
    "    with open(filename, 'r') as file:\n",
    "        lines = file.readlines()\n",
    "    \n",
    "    # 2진수를 정수(int)로 변환하여 리스트에 저장\n",
    "    int_list = [int(line.strip(), 2) for line in lines]\n",
    "    \n",
    "    return int_list\n",
    "\n",
    "\n",
    "int_values = read_y_128_mem_as_int_list(\"/home/boochoo/hqc/dummy-insertion-sparse-polymult/CW305/poly_mult/jupyter/y_128.mem\")\n",
    "normal_values = read_y_128_mem_as_int_list(\"/home/boochoo/hqc/dummy-insertion-sparse-polymult/CW305/poly_mult/jupyter/h_for_y_32.mem\")\n",
    "# print(normal_values[0])\n",
    "print(normal_values[551])"
   ]
  },
  {
   "cell_type": "code",
   "execution_count": 80,
   "metadata": {},
   "outputs": [],
   "source": [
    "def number_to_bytearray(num, high_bits=0, size=16):\n",
    "    \"\"\" \n",
    "    숫자를 지정된 바이트 크기로 변환하는 함수.\n",
    "    high_bits (0~3): 최상위 2비트 (128, 127 비트)를 설정할 값\n",
    "    \"\"\"\n",
    "    if not (0 <= high_bits <= 3):\n",
    "        raise ValueError(\"high_bits는 0~3 사이의 값이어야 합니다.\")\n",
    "\n",
    "    # 126비트 값만 유지하고, 최상위 2비트는 high_bits로 변경\n",
    "    num = (num & ((1 << 126) - 1)) | (high_bits << 126)\n",
    "\n",
    "    return num.to_bytes(size, byteorder='little')\n"
   ]
  },
  {
   "cell_type": "code",
   "execution_count": 81,
   "metadata": {},
   "outputs": [],
   "source": [
    "for i in range(len(int_values) + len(normal_values)):\n",
    "    target.fpga_write(target.REG_CRYPT_KEY, number_to_bytearray(i,0))\n",
    "    if i < len(int_values):\n",
    "        target.fpga_write(target.REG_CRYPT_TEXTIN, int_values[i].to_bytes(16, byteorder='little'))\n",
    "    else:\n",
    "        target.fpga_write(target.REG_CRYPT_TEXTIN, normal_values[i-len(int_values)].to_bytes(16, byteorder='little'))\n",
    "    target.go()\n"
   ]
  },
  {
   "cell_type": "code",
   "execution_count": 82,
   "metadata": {},
   "outputs": [
    {
     "name": "stdout",
     "output_type": "stream",
     "text": [
      "148\n",
      "bytearray(b'\\x00\\x00\\x00\\x00\\x00\\x00\\x00\\x00\\x00\\x00\\x00\\x00\\x00\\x00\\x00\\x00')\n"
     ]
    }
   ],
   "source": [
    "def read_key(index):\n",
    "    target.fpga_write(target.REG_CRYPT_TEXTIN, bytearray(16))\n",
    "    target.fpga_write(target.REG_CRYPT_KEY, number_to_bytearray(index, 0))\n",
    "    target.go()\n",
    "    result_byte = target.fpga_read(target.REG_CRYPT_CIPHEROUT, 16)\n",
    "    return int.from_bytes(result_byte, byteorder='little')\n",
    "\n",
    "\n",
    "print(read_key(0))\n",
    "print(target.fpga_read(target.REG_CRYPT_TEXTIN, 16))"
   ]
  },
  {
   "cell_type": "code",
   "execution_count": 83,
   "metadata": {},
   "outputs": [],
   "source": [
    "target.fpga_write(target.REG_CRYPT_TEXTIN, bytearray([0xFF] * 16))\n",
    "target.fpga_write(target.REG_CRYPT_KEY, number_to_bytearray(7000, 0))\n",
    "target.go()\n"
   ]
  },
  {
   "cell_type": "code",
   "execution_count": 84,
   "metadata": {},
   "outputs": [
    {
     "name": "stdout",
     "output_type": "stream",
     "text": [
      "148\n"
     ]
    }
   ],
   "source": [
    "a = target.fpga_read(target.REG_CRYPT_CIPHEROUT, 16)\n",
    "print(int.from_bytes(a, byteorder='little'))\n",
    "\n"
   ]
  },
  {
   "cell_type": "code",
   "execution_count": 85,
   "metadata": {},
   "outputs": [
    {
     "data": {
      "application/vnd.jupyter.widget-view+json": {
       "model_id": "38b85709c76144ed95cf4fb9b2a6383c",
       "version_major": 2,
       "version_minor": 0
      },
      "text/plain": [
       "Capturing traces:   0%|          | 0/5000 [00:00<?, ?it/s]"
      ]
     },
     "metadata": {},
     "output_type": "display_data"
    }
   ],
   "source": [
    "from tqdm.notebook import tnrange\n",
    "\n",
    "traces = []\n",
    "N = 5000  # Number of traces\n",
    "for i in tnrange(N, desc='Capturing traces'):\n",
    "\n",
    "    ret = cw.capture_trace(scope, target, bytearray([0xFF] * 16), number_to_bytearray(7000, 0))\n",
    "    if not ret:\n",
    "        print(\"Failed capture\")\n",
    "        continue\n",
    "\n",
    "    traces.append(ret.wave)\n",
    "    project.traces.append(ret)"
   ]
  },
  {
   "cell_type": "code",
   "execution_count": 86,
   "metadata": {},
   "outputs": [
    {
     "name": "stdout",
     "output_type": "stream",
     "text": [
      "500\n",
      "5000\n"
     ]
    }
   ],
   "source": [
    "# print(traces[0])\n",
    "print(len(traces[0]))\n",
    "print(len(traces))"
   ]
  },
  {
   "cell_type": "code",
   "execution_count": 87,
   "metadata": {},
   "outputs": [
    {
     "data": {
      "text/html": [
       "    <style>\n",
       "        .bk-notebook-logo {\n",
       "            display: block;\n",
       "            width: 20px;\n",
       "            height: 20px;\n",
       "            background-image: url(data:image/png;base64,iVBORw0KGgoAAAANSUhEUgAAABQAAAAUCAYAAACNiR0NAAAABHNCSVQICAgIfAhkiAAAAAlwSFlzAAALEgAACxIB0t1+/AAAABx0RVh0U29mdHdhcmUAQWRvYmUgRmlyZXdvcmtzIENTNui8sowAAAOkSURBVDiNjZRtaJVlGMd/1/08zzln5zjP1LWcU9N0NkN8m2CYjpgQYQXqSs0I84OLIC0hkEKoPtiH3gmKoiJDU7QpLgoLjLIQCpEsNJ1vqUOdO7ppbuec5+V+rj4ctwzd8IIbbi6u+8f1539dt3A78eXC7QizUF7gyV1fD1Yqg4JWz84yffhm0qkFqBogB9rM8tZdtwVsPUhWhGcFJngGeWrPzHm5oaMmkfEg1usvLFyc8jLRqDOMru7AyC8saQr7GG7f5fvDeH7Ej8CM66nIF+8yngt6HWaKh7k49Soy9nXurCi1o3qUbS3zWfrYeQDTB/Qj6kX6Ybhw4B+bOYoLKCC9H3Nu/leUTZ1JdRWkkn2ldcCamzrcf47KKXdAJllSlxAOkRgyHsGC/zRday5Qld9DyoM4/q/rUoy/CXh3jzOu3bHUVZeU+DEn8FInkPBFlu3+nW3Nw0mk6vCDiWg8CeJaxEwuHS3+z5RgY+YBR6V1Z1nxSOfoaPa4LASWxxdNp+VWTk7+4vzaou8v8PN+xo+KY2xsw6une2frhw05CTYOmQvsEhjhWjn0bmXPjpE1+kplmmkP3suftwTubK9Vq22qKmrBhpY4jvd5afdRA3wGjFAgcnTK2s4hY0/GPNIb0nErGMCRxWOOX64Z8RAC4oCXdklmEvcL8o0BfkNK4lUg9HTl+oPlQxdNo3Mg4Nv175e/1LDGzZen30MEjRUtmXSfiTVu1kK8W4txyV6BMKlbgk3lMwYCiusNy9fVfvvwMxv8Ynl6vxoByANLTWplvuj/nF9m2+PDtt1eiHPBr1oIfhCChQMBw6Aw0UulqTKZdfVvfG7VcfIqLG9bcldL/+pdWTLxLUy8Qq38heUIjh4XlzZxzQm19lLFlr8vdQ97rjZVOLf8nclzckbcD4wxXMidpX30sFd37Fv/GtwwhzhxGVAprjbg0gCAEeIgwCZyTV2Z1REEW8O4py0wsjeloKoMr6iCY6dP92H6Vw/oTyICIthibxjm/DfN9lVz8IqtqKYLUXfoKVMVQVVJOElGjrnnUt9T9wbgp8AyYKaGlqingHZU/uG2NTZSVqwHQTWkx9hxjkpWDaCg6Ckj5qebgBVbT3V3NNXMSiWSDdGV3hrtzla7J+duwPOToIg42ChPQOQjspnSlp1V+Gjdged7+8UN5CRAV7a5EdFNwCjEaBR27b3W890TE7g24NAP/mMDXRWrGoFPQI9ls/MWO2dWFAar/xcOIImbbpA3zgAAAABJRU5ErkJggg==);\n",
       "        }\n",
       "    </style>\n",
       "    <div>\n",
       "        <a href=\"https://bokeh.org\" target=\"_blank\" class=\"bk-notebook-logo\"></a>\n",
       "        <span id=\"b42b2183-5254-42de-b3b6-33ba86f2a3f4\">Loading BokehJS ...</span>\n",
       "    </div>\n"
      ]
     },
     "metadata": {},
     "output_type": "display_data"
    },
    {
     "data": {
      "application/javascript": "'use strict';\n(function(root) {\n  function now() {\n    return new Date();\n  }\n\n  const force = true;\n\n  if (typeof root._bokeh_onload_callbacks === \"undefined\" || force === true) {\n    root._bokeh_onload_callbacks = [];\n    root._bokeh_is_loading = undefined;\n  }\n\nconst JS_MIME_TYPE = 'application/javascript';\n  const HTML_MIME_TYPE = 'text/html';\n  const EXEC_MIME_TYPE = 'application/vnd.bokehjs_exec.v0+json';\n  const CLASS_NAME = 'output_bokeh rendered_html';\n\n  /**\n   * Render data to the DOM node\n   */\n  function render(props, node) {\n    const script = document.createElement(\"script\");\n    node.appendChild(script);\n  }\n\n  /**\n   * Handle when an output is cleared or removed\n   */\n  function handleClearOutput(event, handle) {\n    function drop(id) {\n      const view = Bokeh.index.get_by_id(id)\n      if (view != null) {\n        view.model.document.clear()\n        Bokeh.index.delete(view)\n      }\n    }\n\n    const cell = handle.cell;\n\n    const id = cell.output_area._bokeh_element_id;\n    const server_id = cell.output_area._bokeh_server_id;\n\n    // Clean up Bokeh references\n    if (id != null) {\n      drop(id)\n    }\n\n    if (server_id !== undefined) {\n      // Clean up Bokeh references\n      const cmd_clean = \"from bokeh.io.state import curstate; print(curstate().uuid_to_server['\" + server_id + \"'].get_sessions()[0].document.roots[0]._id)\";\n      cell.notebook.kernel.execute(cmd_clean, {\n        iopub: {\n          output: function(msg) {\n            const id = msg.content.text.trim()\n            drop(id)\n          }\n        }\n      });\n      // Destroy server and session\n      const cmd_destroy = \"import bokeh.io.notebook as ion; ion.destroy_server('\" + server_id + \"')\";\n      cell.notebook.kernel.execute(cmd_destroy);\n    }\n  }\n\n  /**\n   * Handle when a new output is added\n   */\n  function handleAddOutput(event, handle) {\n    const output_area = handle.output_area;\n    const output = handle.output;\n\n    // limit handleAddOutput to display_data with EXEC_MIME_TYPE content only\n    if ((output.output_type != \"display_data\") || (!Object.prototype.hasOwnProperty.call(output.data, EXEC_MIME_TYPE))) {\n      return\n    }\n\n    const toinsert = output_area.element.find(\".\" + CLASS_NAME.split(' ')[0]);\n\n    if (output.metadata[EXEC_MIME_TYPE][\"id\"] !== undefined) {\n      toinsert[toinsert.length - 1].firstChild.textContent = output.data[JS_MIME_TYPE];\n      // store reference to embed id on output_area\n      output_area._bokeh_element_id = output.metadata[EXEC_MIME_TYPE][\"id\"];\n    }\n    if (output.metadata[EXEC_MIME_TYPE][\"server_id\"] !== undefined) {\n      const bk_div = document.createElement(\"div\");\n      bk_div.innerHTML = output.data[HTML_MIME_TYPE];\n      const script_attrs = bk_div.children[0].attributes;\n      for (let i = 0; i < script_attrs.length; i++) {\n        toinsert[toinsert.length - 1].firstChild.setAttribute(script_attrs[i].name, script_attrs[i].value);\n        toinsert[toinsert.length - 1].firstChild.textContent = bk_div.children[0].textContent\n      }\n      // store reference to server id on output_area\n      output_area._bokeh_server_id = output.metadata[EXEC_MIME_TYPE][\"server_id\"];\n    }\n  }\n\n  function register_renderer(events, OutputArea) {\n\n    function append_mime(data, metadata, element) {\n      // create a DOM node to render to\n      const toinsert = this.create_output_subarea(\n        metadata,\n        CLASS_NAME,\n        EXEC_MIME_TYPE\n      );\n      this.keyboard_manager.register_events(toinsert);\n      // Render to node\n      const props = {data: data, metadata: metadata[EXEC_MIME_TYPE]};\n      render(props, toinsert[toinsert.length - 1]);\n      element.append(toinsert);\n      return toinsert\n    }\n\n    /* Handle when an output is cleared or removed */\n    events.on('clear_output.CodeCell', handleClearOutput);\n    events.on('delete.Cell', handleClearOutput);\n\n    /* Handle when a new output is added */\n    events.on('output_added.OutputArea', handleAddOutput);\n\n    /**\n     * Register the mime type and append_mime function with output_area\n     */\n    OutputArea.prototype.register_mime_type(EXEC_MIME_TYPE, append_mime, {\n      /* Is output safe? */\n      safe: true,\n      /* Index of renderer in `output_area.display_order` */\n      index: 0\n    });\n  }\n\n  // register the mime type if in Jupyter Notebook environment and previously unregistered\n  if (root.Jupyter !== undefined) {\n    const events = require('base/js/events');\n    const OutputArea = require('notebook/js/outputarea').OutputArea;\n\n    if (OutputArea.prototype.mime_types().indexOf(EXEC_MIME_TYPE) == -1) {\n      register_renderer(events, OutputArea);\n    }\n  }\n  if (typeof (root._bokeh_timeout) === \"undefined\" || force === true) {\n    root._bokeh_timeout = Date.now() + 5000;\n    root._bokeh_failed_load = false;\n  }\n\n  const NB_LOAD_WARNING = {'data': {'text/html':\n     \"<div style='background-color: #fdd'>\\n\"+\n     \"<p>\\n\"+\n     \"BokehJS does not appear to have successfully loaded. If loading BokehJS from CDN, this \\n\"+\n     \"may be due to a slow or bad network connection. Possible fixes:\\n\"+\n     \"</p>\\n\"+\n     \"<ul>\\n\"+\n     \"<li>re-rerun `output_notebook()` to attempt to load from CDN again, or</li>\\n\"+\n     \"<li>use INLINE resources instead, as so:</li>\\n\"+\n     \"</ul>\\n\"+\n     \"<code>\\n\"+\n     \"from bokeh.resources import INLINE\\n\"+\n     \"output_notebook(resources=INLINE)\\n\"+\n     \"</code>\\n\"+\n     \"</div>\"}};\n\n  function display_loaded(error = null) {\n    const el = document.getElementById(\"b42b2183-5254-42de-b3b6-33ba86f2a3f4\");\n    if (el != null) {\n      const html = (() => {\n        if (typeof root.Bokeh === \"undefined\") {\n          if (error == null) {\n            return \"BokehJS is loading ...\";\n          } else {\n            return \"BokehJS failed to load.\";\n          }\n        } else {\n          const prefix = `BokehJS ${root.Bokeh.version}`;\n          if (error == null) {\n            return `${prefix} successfully loaded.`;\n          } else {\n            return `${prefix} <b>encountered errors</b> while loading and may not function as expected.`;\n          }\n        }\n      })();\n      el.innerHTML = html;\n\n      if (error != null) {\n        const wrapper = document.createElement(\"div\");\n        wrapper.style.overflow = \"auto\";\n        wrapper.style.height = \"5em\";\n        wrapper.style.resize = \"vertical\";\n        const content = document.createElement(\"div\");\n        content.style.fontFamily = \"monospace\";\n        content.style.whiteSpace = \"pre-wrap\";\n        content.style.backgroundColor = \"rgb(255, 221, 221)\";\n        content.textContent = error.stack ?? error.toString();\n        wrapper.append(content);\n        el.append(wrapper);\n      }\n    } else if (Date.now() < root._bokeh_timeout) {\n      setTimeout(() => display_loaded(error), 100);\n    }\n  }\n\n  function run_callbacks() {\n    try {\n      root._bokeh_onload_callbacks.forEach(function(callback) {\n        if (callback != null)\n          callback();\n      });\n    } finally {\n      delete root._bokeh_onload_callbacks\n    }\n    console.debug(\"Bokeh: all callbacks have finished\");\n  }\n\n  function load_libs(css_urls, js_urls, callback) {\n    if (css_urls == null) css_urls = [];\n    if (js_urls == null) js_urls = [];\n\n    root._bokeh_onload_callbacks.push(callback);\n    if (root._bokeh_is_loading > 0) {\n      console.debug(\"Bokeh: BokehJS is being loaded, scheduling callback at\", now());\n      return null;\n    }\n    if (js_urls == null || js_urls.length === 0) {\n      run_callbacks();\n      return null;\n    }\n    console.debug(\"Bokeh: BokehJS not loaded, scheduling load and callback at\", now());\n    root._bokeh_is_loading = css_urls.length + js_urls.length;\n\n    function on_load() {\n      root._bokeh_is_loading--;\n      if (root._bokeh_is_loading === 0) {\n        console.debug(\"Bokeh: all BokehJS libraries/stylesheets loaded\");\n        run_callbacks()\n      }\n    }\n\n    function on_error(url) {\n      console.error(\"failed to load \" + url);\n    }\n\n    for (let i = 0; i < css_urls.length; i++) {\n      const url = css_urls[i];\n      const element = document.createElement(\"link\");\n      element.onload = on_load;\n      element.onerror = on_error.bind(null, url);\n      element.rel = \"stylesheet\";\n      element.type = \"text/css\";\n      element.href = url;\n      console.debug(\"Bokeh: injecting link tag for BokehJS stylesheet: \", url);\n      document.body.appendChild(element);\n    }\n\n    for (let i = 0; i < js_urls.length; i++) {\n      const url = js_urls[i];\n      const element = document.createElement('script');\n      element.onload = on_load;\n      element.onerror = on_error.bind(null, url);\n      element.async = false;\n      element.src = url;\n      console.debug(\"Bokeh: injecting script tag for BokehJS library: \", url);\n      document.head.appendChild(element);\n    }\n  };\n\n  function inject_raw_css(css) {\n    const element = document.createElement(\"style\");\n    element.appendChild(document.createTextNode(css));\n    document.body.appendChild(element);\n  }\n\n  const js_urls = [\"https://cdn.bokeh.org/bokeh/release/bokeh-3.6.2.min.js\", \"https://cdn.bokeh.org/bokeh/release/bokeh-gl-3.6.2.min.js\", \"https://cdn.bokeh.org/bokeh/release/bokeh-widgets-3.6.2.min.js\", \"https://cdn.bokeh.org/bokeh/release/bokeh-tables-3.6.2.min.js\", \"https://cdn.bokeh.org/bokeh/release/bokeh-mathjax-3.6.2.min.js\"];\n  const css_urls = [];\n\n  const inline_js = [    function(Bokeh) {\n      Bokeh.set_log_level(\"info\");\n    },\nfunction(Bokeh) {\n    }\n  ];\n\n  function run_inline_js() {\n    if (root.Bokeh !== undefined || force === true) {\n      try {\n            for (let i = 0; i < inline_js.length; i++) {\n      inline_js[i].call(root, root.Bokeh);\n    }\n\n      } catch (error) {display_loaded(error);throw error;\n      }if (force === true) {\n        display_loaded();\n      }} else if (Date.now() < root._bokeh_timeout) {\n      setTimeout(run_inline_js, 100);\n    } else if (!root._bokeh_failed_load) {\n      console.log(\"Bokeh: BokehJS failed to load within specified timeout.\");\n      root._bokeh_failed_load = true;\n    } else if (force !== true) {\n      const cell = $(document.getElementById(\"b42b2183-5254-42de-b3b6-33ba86f2a3f4\")).parents('.cell').data().cell;\n      cell.output_area.append_execute_result(NB_LOAD_WARNING)\n    }\n  }\n\n  if (root._bokeh_is_loading === 0) {\n    console.debug(\"Bokeh: BokehJS loaded, going straight to plotting\");\n    run_inline_js();\n  } else {\n    load_libs(css_urls, js_urls, function() {\n      console.debug(\"Bokeh: BokehJS plotting callback run at\", now());\n      run_inline_js();\n    });\n  }\n}(window));",
      "application/vnd.bokehjs_load.v0+json": ""
     },
     "metadata": {},
     "output_type": "display_data"
    },
    {
     "data": {
      "text/html": [
       "\n",
       "  <div id=\"fbeb3e5d-ca15-41c6-9ca2-0ef4c4750792\" data-root-id=\"p1221\" style=\"display: contents;\"></div>\n"
      ]
     },
     "metadata": {},
     "output_type": "display_data"
    },
    {
     "data": {
      "application/javascript": "(function(root) {\n  function embed_document(root) {\n  const docs_json = {\"92e0bbf1-fafb-44c2-b5f6-b7a182114054\":{\"version\":\"3.6.2\",\"title\":\"Bokeh Application\",\"roots\":[{\"type\":\"object\",\"name\":\"Figure\",\"id\":\"p1221\",\"attributes\":{\"width\":1000,\"x_range\":{\"type\":\"object\",\"name\":\"DataRange1d\",\"id\":\"p1222\"},\"y_range\":{\"type\":\"object\",\"name\":\"DataRange1d\",\"id\":\"p1223\"},\"x_scale\":{\"type\":\"object\",\"name\":\"LinearScale\",\"id\":\"p1230\"},\"y_scale\":{\"type\":\"object\",\"name\":\"LinearScale\",\"id\":\"p1231\"},\"title\":{\"type\":\"object\",\"name\":\"Title\",\"id\":\"p1228\"},\"renderers\":[{\"type\":\"object\",\"name\":\"GlyphRenderer\",\"id\":\"p1261\",\"attributes\":{\"data_source\":{\"type\":\"object\",\"name\":\"ColumnDataSource\",\"id\":\"p1255\",\"attributes\":{\"selected\":{\"type\":\"object\",\"name\":\"Selection\",\"id\":\"p1256\",\"attributes\":{\"indices\":[],\"line_indices\":[]}},\"selection_policy\":{\"type\":\"object\",\"name\":\"UnionRenderers\",\"id\":\"p1257\"},\"data\":{\"type\":\"map\",\"entries\":[[\"x\",[0,1,2,3,4,5,6,7,8,9,10,11,12,13,14,15,16,17,18,19,20,21,22,23,24,25,26,27,28,29,30,31,32,33,34,35,36,37,38,39,40,41,42,43,44,45,46,47,48,49,50,51,52,53,54,55,56,57,58,59,60,61,62,63,64,65,66,67,68,69,70,71,72,73,74,75,76,77,78,79,80,81,82,83,84,85,86,87,88,89,90,91,92,93,94,95,96,97,98,99,100,101,102,103,104,105,106,107,108,109,110,111,112,113,114,115,116,117,118,119,120,121,122,123,124,125,126,127,128,129,130,131,132,133,134,135,136,137,138,139,140,141,142,143,144,145,146,147,148,149,150,151,152,153,154,155,156,157,158,159,160,161,162,163,164,165,166,167,168,169,170,171,172,173,174,175,176,177,178,179,180,181,182,183,184,185,186,187,188,189,190,191,192,193,194,195,196,197,198,199,200,201,202,203,204,205,206,207,208,209,210,211,212,213,214,215,216,217,218,219,220,221,222,223,224,225,226,227,228,229,230,231,232,233,234,235,236,237,238,239,240,241,242,243,244,245,246,247,248,249,250,251,252,253,254,255,256,257,258,259,260,261,262,263,264,265,266,267,268,269,270,271,272,273,274,275,276,277,278,279,280,281,282,283,284,285,286,287,288,289,290,291,292,293,294,295,296,297,298,299,300,301,302,303,304,305,306,307,308,309,310,311,312,313,314,315,316,317,318,319,320,321,322,323,324,325,326,327,328,329,330,331,332,333,334,335,336,337,338,339,340,341,342,343,344,345,346,347,348,349,350,351,352,353,354,355,356,357,358,359,360,361,362,363,364,365,366,367,368,369,370,371,372,373,374,375,376,377,378,379,380,381,382,383,384,385,386,387,388,389,390,391,392,393,394,395,396,397,398,399,400,401,402,403,404,405,406,407,408,409,410,411,412,413,414,415,416,417,418,419,420,421,422,423,424,425,426,427,428,429,430,431,432,433,434,435,436,437,438,439,440,441,442,443,444,445,446,447,448,449,450,451,452,453,454,455,456,457,458,459,460,461,462,463,464,465,466,467,468,469,470,471,472,473,474,475,476,477,478,479,480,481,482,483,484,485,486,487,488,489,490,491,492,493,494,495,496,497,498,499]],[\"y\",{\"type\":\"ndarray\",\"array\":{\"type\":\"bytes\",\"data\":\"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\"},\"shape\":[500],\"dtype\":\"float64\",\"order\":\"little\"}]]}}},\"view\":{\"type\":\"object\",\"name\":\"CDSView\",\"id\":\"p1262\",\"attributes\":{\"filter\":{\"type\":\"object\",\"name\":\"AllIndices\",\"id\":\"p1263\"}}},\"glyph\":{\"type\":\"object\",\"name\":\"Line\",\"id\":\"p1258\",\"attributes\":{\"x\":{\"type\":\"field\",\"field\":\"x\"},\"y\":{\"type\":\"field\",\"field\":\"y\"},\"line_color\":\"red\"}},\"nonselection_glyph\":{\"type\":\"object\",\"name\":\"Line\",\"id\":\"p1259\",\"attributes\":{\"x\":{\"type\":\"field\",\"field\":\"x\"},\"y\":{\"type\":\"field\",\"field\":\"y\"},\"line_color\":\"red\",\"line_alpha\":0.1}},\"muted_glyph\":{\"type\":\"object\",\"name\":\"Line\",\"id\":\"p1260\",\"attributes\":{\"x\":{\"type\":\"field\",\"field\":\"x\"},\"y\":{\"type\":\"field\",\"field\":\"y\"},\"line_color\":\"red\",\"line_alpha\":0.2}}}}],\"toolbar\":{\"type\":\"object\",\"name\":\"Toolbar\",\"id\":\"p1229\",\"attributes\":{\"tools\":[{\"type\":\"object\",\"name\":\"PanTool\",\"id\":\"p1242\"},{\"type\":\"object\",\"name\":\"WheelZoomTool\",\"id\":\"p1243\",\"attributes\":{\"renderers\":\"auto\"}},{\"type\":\"object\",\"name\":\"BoxZoomTool\",\"id\":\"p1244\",\"attributes\":{\"overlay\":{\"type\":\"object\",\"name\":\"BoxAnnotation\",\"id\":\"p1245\",\"attributes\":{\"syncable\":false,\"line_color\":\"black\",\"line_alpha\":1.0,\"line_width\":2,\"line_dash\":[4,4],\"fill_color\":\"lightgrey\",\"fill_alpha\":0.5,\"level\":\"overlay\",\"visible\":false,\"left\":{\"type\":\"number\",\"value\":\"nan\"},\"right\":{\"type\":\"number\",\"value\":\"nan\"},\"top\":{\"type\":\"number\",\"value\":\"nan\"},\"bottom\":{\"type\":\"number\",\"value\":\"nan\"},\"left_units\":\"canvas\",\"right_units\":\"canvas\",\"top_units\":\"canvas\",\"bottom_units\":\"canvas\",\"handles\":{\"type\":\"object\",\"name\":\"BoxInteractionHandles\",\"id\":\"p1251\",\"attributes\":{\"all\":{\"type\":\"object\",\"name\":\"AreaVisuals\",\"id\":\"p1250\",\"attributes\":{\"fill_color\":\"white\",\"hover_fill_color\":\"lightgray\"}}}}}}}},{\"type\":\"object\",\"name\":\"SaveTool\",\"id\":\"p1252\"},{\"type\":\"object\",\"name\":\"ResetTool\",\"id\":\"p1253\"},{\"type\":\"object\",\"name\":\"HelpTool\",\"id\":\"p1254\"}]}},\"left\":[{\"type\":\"object\",\"name\":\"LinearAxis\",\"id\":\"p1237\",\"attributes\":{\"ticker\":{\"type\":\"object\",\"name\":\"BasicTicker\",\"id\":\"p1238\",\"attributes\":{\"mantissas\":[1,2,5]}},\"formatter\":{\"type\":\"object\",\"name\":\"BasicTickFormatter\",\"id\":\"p1239\"},\"major_label_policy\":{\"type\":\"object\",\"name\":\"AllLabels\",\"id\":\"p1240\"}}}],\"below\":[{\"type\":\"object\",\"name\":\"LinearAxis\",\"id\":\"p1232\",\"attributes\":{\"ticker\":{\"type\":\"object\",\"name\":\"BasicTicker\",\"id\":\"p1233\",\"attributes\":{\"mantissas\":[1,2,5]}},\"formatter\":{\"type\":\"object\",\"name\":\"BasicTickFormatter\",\"id\":\"p1234\"},\"major_label_policy\":{\"type\":\"object\",\"name\":\"AllLabels\",\"id\":\"p1235\"}}}],\"center\":[{\"type\":\"object\",\"name\":\"Grid\",\"id\":\"p1236\",\"attributes\":{\"axis\":{\"id\":\"p1232\"}}},{\"type\":\"object\",\"name\":\"Grid\",\"id\":\"p1241\",\"attributes\":{\"dimension\":1,\"axis\":{\"id\":\"p1237\"}}}]}}]}};\n  const render_items = [{\"docid\":\"92e0bbf1-fafb-44c2-b5f6-b7a182114054\",\"roots\":{\"p1221\":\"fbeb3e5d-ca15-41c6-9ca2-0ef4c4750792\"},\"root_ids\":[\"p1221\"]}];\n  void root.Bokeh.embed.embed_items_notebook(docs_json, render_items);\n  }\n  if (root.Bokeh !== undefined) {\n    embed_document(root);\n  } else {\n    let attempts = 0;\n    const timer = setInterval(function(root) {\n      if (root.Bokeh !== undefined) {\n        clearInterval(timer);\n        embed_document(root);\n      } else {\n        attempts++;\n        if (attempts > 100) {\n          clearInterval(timer);\n          console.log(\"Bokeh: ERROR: Unable to run BokehJS code because BokehJS library is missing\");\n        }\n      }\n    }, 10, root)\n  }\n})(window);",
      "application/vnd.bokehjs_exec.v0+json": ""
     },
     "metadata": {
      "application/vnd.bokehjs_exec.v0+json": {
       "id": "p1221"
      }
     },
     "output_type": "display_data"
    }
   ],
   "source": [
    "from bokeh.plotting import figure, show\n",
    "from bokeh.io import output_notebook\n",
    "\n",
    "output_notebook()\n",
    "p = figure(width=1000)\n",
    "\n",
    "xrange = list(range(len(traces[0])))\n",
    "p.line(xrange, traces[12], line_color=\"red\")\n",
    "show(p)"
   ]
  },
  {
   "cell_type": "code",
   "execution_count": 88,
   "metadata": {},
   "outputs": [
    {
     "name": "stdout",
     "output_type": "stream",
     "text": [
      "CSV 파일이 성공적으로 저장되었습니다: /home/boochoo/hqc/dummy-insertion-sparse-polymult/CW305/poly_mult/jupyter/traces.csv\n"
     ]
    }
   ],
   "source": [
    "import csv\n",
    "\n",
    "def save_to_csv(data, filename):\n",
    "    \"\"\"\n",
    "    2차원 리스트를 CSV 파일로 저장하는 함수\n",
    "\n",
    "    :param data: 2차원 리스트 (리스트의 리스트)\n",
    "    :param filename: 저장할 CSV 파일명 (예: \"output.csv\")\n",
    "    \"\"\"\n",
    "    try:\n",
    "        with open(filename, mode='w', newline='', encoding='utf-8') as file:\n",
    "            writer = csv.writer(file)\n",
    "            writer.writerows(data)\n",
    "        print(f\"CSV 파일이 성공적으로 저장되었습니다: {filename}\")\n",
    "    except Exception as e:\n",
    "        print(f\"파일 저장 중 오류 발생: {e}\")\n",
    "\n",
    "\n",
    "save_to_csv(traces, \"/home/boochoo/hqc/dummy-insertion-sparse-polymult/CW305/poly_mult/jupyter/traces.csv\")"
   ]
  },
  {
   "cell_type": "code",
   "execution_count": 89,
   "metadata": {},
   "outputs": [
    {
     "name": "stdout",
     "output_type": "stream",
     "text": [
      "500\n"
     ]
    }
   ],
   "source": [
    "print(scope.adc.samples)\n",
    "scope.adc.samples = 300"
   ]
  },
  {
   "cell_type": "code",
   "execution_count": 90,
   "metadata": {},
   "outputs": [],
   "source": [
    "import numpy as np\n",
    "traces = np.array(traces)"
   ]
  },
  {
   "cell_type": "code",
   "execution_count": null,
   "metadata": {},
   "outputs": [
    {
     "ename": "ValueError",
     "evalue": "Input data must have a shape of (N, length)",
     "output_type": "error",
     "traceback": [
      "\u001b[0;31m---------------------------------------------------------------------------\u001b[0m",
      "\u001b[0;31mValueError\u001b[0m                                Traceback (most recent call last)",
      "Cell \u001b[0;32mIn[91], line 28\u001b[0m\n\u001b[1;32m     24\u001b[0m     plt\u001b[38;5;241m.\u001b[39mshow()\n\u001b[1;32m     26\u001b[0m     \u001b[38;5;28;01mreturn\u001b[39;00m cumulative_trace\u001b[38;5;241m/\u001b[39m\u001b[38;5;241m5000\u001b[39m\n\u001b[0;32m---> 28\u001b[0m cumulative_trace \u001b[38;5;241m=\u001b[39m \u001b[43mplot_cumulative_trace\u001b[49m\u001b[43m(\u001b[49m\u001b[43mtraces\u001b[49m\u001b[43m)\u001b[49m\n",
      "Cell \u001b[0;32mIn[91], line 12\u001b[0m, in \u001b[0;36mplot_cumulative_trace\u001b[0;34m(data, N, length)\u001b[0m\n\u001b[1;32m     10\u001b[0m \u001b[38;5;66;03m# 데이터가 올바른 형태인지 확인\u001b[39;00m\n\u001b[1;32m     11\u001b[0m \u001b[38;5;28;01mif\u001b[39;00m \u001b[38;5;28mlen\u001b[39m(data\u001b[38;5;241m.\u001b[39mshape) \u001b[38;5;241m!=\u001b[39m \u001b[38;5;241m2\u001b[39m \u001b[38;5;129;01mor\u001b[39;00m data\u001b[38;5;241m.\u001b[39mshape[\u001b[38;5;241m1\u001b[39m] \u001b[38;5;241m!=\u001b[39m length:\n\u001b[0;32m---> 12\u001b[0m     \u001b[38;5;28;01mraise\u001b[39;00m \u001b[38;5;167;01mValueError\u001b[39;00m(\u001b[38;5;124m\"\u001b[39m\u001b[38;5;124mInput data must have a shape of (N, length)\u001b[39m\u001b[38;5;124m\"\u001b[39m)\n\u001b[1;32m     14\u001b[0m \u001b[38;5;66;03m# x축 기준으로 누적 합 계산 (axis=0)\u001b[39;00m\n\u001b[1;32m     15\u001b[0m cumulative_trace \u001b[38;5;241m=\u001b[39m np\u001b[38;5;241m.\u001b[39msum(data, axis\u001b[38;5;241m=\u001b[39m\u001b[38;5;241m0\u001b[39m)\n",
      "\u001b[0;31mValueError\u001b[0m: Input data must have a shape of (N, length)"
     ]
    }
   ],
   "source": [
    "import numpy as np\n",
    "import matplotlib.pyplot as plt\n",
    "\n",
    "def plot_cumulative_trace(data, N=5000, length=300):\n",
    "    \"\"\"\n",
    "    5000개의 200길이 데이터를 x축 기준으로 모두 누적하여 시각화하는 함수\n",
    "\n",
    "    :param data: (5000, 200) 형태의 2차원 NumPy 배열\n",
    "    \"\"\"\n",
    "    # 데이터가 올바른 형태인지 확인\n",
    "    if len(data.shape) != 2 or data.shape[1] != length:\n",
    "        raise ValueError(\"Input data must have a shape of (N, length)\")\n",
    "\n",
    "    # x축 기준으로 누적 합 계산 (axis=0)\n",
    "    cumulative_trace = np.sum(data, axis=0)\n",
    "\n",
    "    # 그래프 그리기\n",
    "    plt.plot(range(length), cumulative_trace, label=\"Cumulative Trace\", color='b')\n",
    "    plt.xlabel(f\"Sequence Index (0 ~ `{length-1}`)\")\n",
    "    plt.ylabel(\"Cumulative Sum\")\n",
    "    plt.title(\"Cumulative Sum of 5000 Traces\")\n",
    "    plt.legend()\n",
    "    plt.grid()\n",
    "    plt.show()\n",
    "    \n",
    "    return cumulative_trace/5000\n",
    "\n",
    "cumulative_trace = plot_cumulative_trace(traces, length = scope.adc.samples)"
   ]
  },
  {
   "cell_type": "code",
   "execution_count": 92,
   "metadata": {},
   "outputs": [
    {
     "ename": "ValueError",
     "evalue": "Input data must have a shape of (N, length)",
     "output_type": "error",
     "traceback": [
      "\u001b[0;31m---------------------------------------------------------------------------\u001b[0m",
      "\u001b[0;31mValueError\u001b[0m                                Traceback (most recent call last)",
      "Cell \u001b[0;32mIn[92], line 48\u001b[0m\n\u001b[1;32m     43\u001b[0m     \u001b[38;5;28;01mreturn\u001b[39;00m mean_trace, mean_deviation, max_deviation_index, max_deviation_value\n\u001b[1;32m     47\u001b[0m \u001b[38;5;66;03m# 분석 실행\u001b[39;00m\n\u001b[0;32m---> 48\u001b[0m mean_trace, mean_deviation, max_deviation_index, max_deviation_value \u001b[38;5;241m=\u001b[39m \u001b[43manalyze_trace_variation\u001b[49m\u001b[43m(\u001b[49m\u001b[43mtraces\u001b[49m\u001b[43m)\u001b[49m\n",
      "Cell \u001b[0;32mIn[92], line 9\u001b[0m, in \u001b[0;36manalyze_trace_variation\u001b[0;34m(data, N, length)\u001b[0m\n\u001b[1;32m      7\u001b[0m \u001b[38;5;66;03m# 데이터가 올바른 형태인지 확인\u001b[39;00m\n\u001b[1;32m      8\u001b[0m \u001b[38;5;28;01mif\u001b[39;00m \u001b[38;5;28mlen\u001b[39m(data\u001b[38;5;241m.\u001b[39mshape) \u001b[38;5;241m!=\u001b[39m \u001b[38;5;241m2\u001b[39m \u001b[38;5;129;01mor\u001b[39;00m data\u001b[38;5;241m.\u001b[39mshape[\u001b[38;5;241m1\u001b[39m] \u001b[38;5;241m!=\u001b[39m length:\n\u001b[0;32m----> 9\u001b[0m     \u001b[38;5;28;01mraise\u001b[39;00m \u001b[38;5;167;01mValueError\u001b[39;00m(\u001b[38;5;124m\"\u001b[39m\u001b[38;5;124mInput data must have a shape of (N, length)\u001b[39m\u001b[38;5;124m\"\u001b[39m)\n\u001b[1;32m     11\u001b[0m \u001b[38;5;66;03m# 평균 트레이스 계산\u001b[39;00m\n\u001b[1;32m     12\u001b[0m mean_trace \u001b[38;5;241m=\u001b[39m np\u001b[38;5;241m.\u001b[39mmean(data, axis\u001b[38;5;241m=\u001b[39m\u001b[38;5;241m0\u001b[39m)\n",
      "\u001b[0;31mValueError\u001b[0m: Input data must have a shape of (N, length)"
     ]
    }
   ],
   "source": [
    "def analyze_trace_variation(data, N=5000, length=300):\n",
    "    \"\"\"\n",
    "    5000개의 트레이스 평균 및 각 트레이스와 평균의 차이를 분석하는 함수\n",
    "\n",
    "    :param data: (5000, 300) 형태의 2차원 NumPy 배열\n",
    "    \"\"\"\n",
    "    # 데이터가 올바른 형태인지 확인\n",
    "    if len(data.shape) != 2 or data.shape[1] != length:\n",
    "        raise ValueError(\"Input data must have a shape of (N, length)\")\n",
    "\n",
    "    # 평균 트레이스 계산\n",
    "    mean_trace = np.mean(data, axis=0)\n",
    "\n",
    "    # 각 트레이스와 평균의 차이 계산 (절대값 기준)\n",
    "    deviation = np.abs(data - mean_trace)  # (5000, 300) 크기의 편차 행렬\n",
    "    mean_deviation = np.mean(deviation, axis=0)  # 각 포인트별 평균 차이 계산\n",
    "\n",
    "    # 차이가 가장 큰 지점 찾기\n",
    "    max_deviation_index = np.argmax(mean_deviation)\n",
    "    max_deviation_value = mean_deviation[max_deviation_index]\n",
    "\n",
    "    # 그래프 그리기\n",
    "    plt.figure(figsize=(12, 6))\n",
    "\n",
    "    # 평균 트레이스 그래프\n",
    "    plt.plot(range(length), mean_trace, label=\"Mean Trace\", color='b')\n",
    "\n",
    "    # 평균 차이 그래프\n",
    "    plt.plot(range(length), mean_deviation, label=\"Mean Absolute Deviation\", color='r')\n",
    "\n",
    "    # 차이가 가장 큰 지점 표시\n",
    "    plt.axvline(x=max_deviation_index, color='g', linestyle='--', label=f\"Max Deviation at {max_deviation_index}\")\n",
    "\n",
    "    plt.xlabel(\"Sequence Index (0 ~ 299)\")\n",
    "    plt.ylabel(\"Value\")\n",
    "    plt.title(\"Mean Trace and Mean Deviation\")\n",
    "    plt.legend()\n",
    "    plt.grid()\n",
    "    plt.show()\n",
    "\n",
    "    print(f\"Maximum deviation occurs at index {max_deviation_index} with a value of {max_deviation_value:.4f}\")\n",
    "\n",
    "    return mean_trace, mean_deviation, max_deviation_index, max_deviation_value\n",
    "\n",
    "\n",
    "\n",
    "# 분석 실행\n",
    "mean_trace, mean_deviation, max_deviation_index, max_deviation_value = analyze_trace_variation(traces)"
   ]
  },
  {
   "cell_type": "code",
   "execution_count": null,
   "metadata": {},
   "outputs": [],
   "source": []
  }
 ],
 "metadata": {
  "kernelspec": {
   "display_name": "Python 3 (ipykernel)",
   "language": "python",
   "name": "python3"
  },
  "language_info": {
   "codemirror_mode": {
    "name": "ipython",
    "version": 3
   },
   "file_extension": ".py",
   "mimetype": "text/x-python",
   "name": "python",
   "nbconvert_exporter": "python",
   "pygments_lexer": "ipython3",
   "version": "3.10.12"
  }
 },
 "nbformat": 4,
 "nbformat_minor": 2
}
